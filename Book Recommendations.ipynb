{
 "cells": [
  {
   "cell_type": "code",
   "execution_count": 1,
   "id": "5366be5a",
   "metadata": {},
   "outputs": [],
   "source": [
    "import pandas as pd\n",
    "import numpy as np\n",
    "import matplotlib.pyplot as plt\n",
    "import seaborn as sns"
   ]
  },
  {
   "cell_type": "code",
   "execution_count": 2,
   "id": "6fb48b4b",
   "metadata": {},
   "outputs": [
    {
     "name": "stderr",
     "output_type": "stream",
     "text": [
      "C:\\Users\\MAYANK\\AppData\\Local\\Temp\\ipykernel_5124\\3565690060.py:1: DtypeWarning: Columns (3) have mixed types. Specify dtype option on import or set low_memory=False.\n",
      "  books= pd.read_csv(\"Books.csv\")\n"
     ]
    }
   ],
   "source": [
    "books= pd.read_csv(\"Books.csv\")\n",
    "users = pd.read_csv('users.csv')\n",
    "ratings = pd.read_csv('ratings.csv')"
   ]
  },
  {
   "cell_type": "code",
   "execution_count": 3,
   "id": "8b66f4a2",
   "metadata": {},
   "outputs": [
    {
     "data": {
      "text/plain": [
       "(271360, 8)"
      ]
     },
     "execution_count": 3,
     "metadata": {},
     "output_type": "execute_result"
    }
   ],
   "source": [
    "books.shape"
   ]
  },
  {
   "cell_type": "code",
   "execution_count": 4,
   "id": "23ec846e",
   "metadata": {},
   "outputs": [
    {
     "data": {
      "text/plain": [
       "(278858, 3)"
      ]
     },
     "execution_count": 4,
     "metadata": {},
     "output_type": "execute_result"
    }
   ],
   "source": [
    "users.shape"
   ]
  },
  {
   "cell_type": "code",
   "execution_count": 5,
   "id": "efa36e81",
   "metadata": {},
   "outputs": [
    {
     "data": {
      "text/plain": [
       "(1149780, 3)"
      ]
     },
     "execution_count": 5,
     "metadata": {},
     "output_type": "execute_result"
    }
   ],
   "source": [
    "ratings.shape"
   ]
  },
  {
   "cell_type": "code",
   "execution_count": 6,
   "id": "aaeff7d2",
   "metadata": {},
   "outputs": [
    {
     "data": {
      "text/html": [
       "<div>\n",
       "<style scoped>\n",
       "    .dataframe tbody tr th:only-of-type {\n",
       "        vertical-align: middle;\n",
       "    }\n",
       "\n",
       "    .dataframe tbody tr th {\n",
       "        vertical-align: top;\n",
       "    }\n",
       "\n",
       "    .dataframe thead th {\n",
       "        text-align: right;\n",
       "    }\n",
       "</style>\n",
       "<table border=\"1\" class=\"dataframe\">\n",
       "  <thead>\n",
       "    <tr style=\"text-align: right;\">\n",
       "      <th></th>\n",
       "      <th>ISBN</th>\n",
       "      <th>Book-Title</th>\n",
       "      <th>Book-Author</th>\n",
       "      <th>Year-Of-Publication</th>\n",
       "      <th>Publisher</th>\n",
       "      <th>Image-URL-S</th>\n",
       "      <th>Image-URL-M</th>\n",
       "      <th>Image-URL-L</th>\n",
       "    </tr>\n",
       "  </thead>\n",
       "  <tbody>\n",
       "    <tr>\n",
       "      <th>270564</th>\n",
       "      <td>0809249413</td>\n",
       "      <td>The Woman Cyclist</td>\n",
       "      <td>Elaine Mariolle</td>\n",
       "      <td>1988</td>\n",
       "      <td>McGraw-Hill/Contemporary Books</td>\n",
       "      <td>http://images.amazon.com/images/P/0809249413.0...</td>\n",
       "      <td>http://images.amazon.com/images/P/0809249413.0...</td>\n",
       "      <td>http://images.amazon.com/images/P/0809249413.0...</td>\n",
       "    </tr>\n",
       "  </tbody>\n",
       "</table>\n",
       "</div>"
      ],
      "text/plain": [
       "              ISBN         Book-Title      Book-Author Year-Of-Publication  \\\n",
       "270564  0809249413  The Woman Cyclist  Elaine Mariolle                1988   \n",
       "\n",
       "                             Publisher  \\\n",
       "270564  McGraw-Hill/Contemporary Books   \n",
       "\n",
       "                                              Image-URL-S  \\\n",
       "270564  http://images.amazon.com/images/P/0809249413.0...   \n",
       "\n",
       "                                              Image-URL-M  \\\n",
       "270564  http://images.amazon.com/images/P/0809249413.0...   \n",
       "\n",
       "                                              Image-URL-L  \n",
       "270564  http://images.amazon.com/images/P/0809249413.0...  "
      ]
     },
     "execution_count": 6,
     "metadata": {},
     "output_type": "execute_result"
    }
   ],
   "source": [
    "books.sample()"
   ]
  },
  {
   "cell_type": "code",
   "execution_count": 7,
   "id": "2332f0f3",
   "metadata": {},
   "outputs": [
    {
     "data": {
      "text/html": [
       "<div>\n",
       "<style scoped>\n",
       "    .dataframe tbody tr th:only-of-type {\n",
       "        vertical-align: middle;\n",
       "    }\n",
       "\n",
       "    .dataframe tbody tr th {\n",
       "        vertical-align: top;\n",
       "    }\n",
       "\n",
       "    .dataframe thead th {\n",
       "        text-align: right;\n",
       "    }\n",
       "</style>\n",
       "<table border=\"1\" class=\"dataframe\">\n",
       "  <thead>\n",
       "    <tr style=\"text-align: right;\">\n",
       "      <th></th>\n",
       "      <th>User-ID</th>\n",
       "      <th>ISBN</th>\n",
       "      <th>Book-Rating</th>\n",
       "    </tr>\n",
       "  </thead>\n",
       "  <tbody>\n",
       "    <tr>\n",
       "      <th>853328</th>\n",
       "      <td>206415</td>\n",
       "      <td>033375588X</td>\n",
       "      <td>0</td>\n",
       "    </tr>\n",
       "  </tbody>\n",
       "</table>\n",
       "</div>"
      ],
      "text/plain": [
       "        User-ID        ISBN  Book-Rating\n",
       "853328   206415  033375588X            0"
      ]
     },
     "execution_count": 7,
     "metadata": {},
     "output_type": "execute_result"
    }
   ],
   "source": [
    "ratings.sample()"
   ]
  },
  {
   "cell_type": "code",
   "execution_count": 8,
   "id": "4c77657a",
   "metadata": {
    "scrolled": true
   },
   "outputs": [
    {
     "data": {
      "text/html": [
       "<div>\n",
       "<style scoped>\n",
       "    .dataframe tbody tr th:only-of-type {\n",
       "        vertical-align: middle;\n",
       "    }\n",
       "\n",
       "    .dataframe tbody tr th {\n",
       "        vertical-align: top;\n",
       "    }\n",
       "\n",
       "    .dataframe thead th {\n",
       "        text-align: right;\n",
       "    }\n",
       "</style>\n",
       "<table border=\"1\" class=\"dataframe\">\n",
       "  <thead>\n",
       "    <tr style=\"text-align: right;\">\n",
       "      <th></th>\n",
       "      <th>User-ID</th>\n",
       "      <th>Location</th>\n",
       "      <th>Age</th>\n",
       "    </tr>\n",
       "  </thead>\n",
       "  <tbody>\n",
       "    <tr>\n",
       "      <th>24579</th>\n",
       "      <td>24580</td>\n",
       "      <td>toronto, ontario, canada</td>\n",
       "      <td>37.0</td>\n",
       "    </tr>\n",
       "  </tbody>\n",
       "</table>\n",
       "</div>"
      ],
      "text/plain": [
       "       User-ID                  Location   Age\n",
       "24579    24580  toronto, ontario, canada  37.0"
      ]
     },
     "execution_count": 8,
     "metadata": {},
     "output_type": "execute_result"
    }
   ],
   "source": [
    "users.sample()"
   ]
  },
  {
   "cell_type": "code",
   "execution_count": 9,
   "id": "3710ce93",
   "metadata": {},
   "outputs": [],
   "source": [
    "books.drop([\"Image-URL-S\",\"Image-URL-M\",\"Image-URL-L\"], axis=1, inplace=True)"
   ]
  },
  {
   "cell_type": "code",
   "execution_count": 10,
   "id": "3cbab0b7",
   "metadata": {},
   "outputs": [
    {
     "data": {
      "text/html": [
       "<div>\n",
       "<style scoped>\n",
       "    .dataframe tbody tr th:only-of-type {\n",
       "        vertical-align: middle;\n",
       "    }\n",
       "\n",
       "    .dataframe tbody tr th {\n",
       "        vertical-align: top;\n",
       "    }\n",
       "\n",
       "    .dataframe thead th {\n",
       "        text-align: right;\n",
       "    }\n",
       "</style>\n",
       "<table border=\"1\" class=\"dataframe\">\n",
       "  <thead>\n",
       "    <tr style=\"text-align: right;\">\n",
       "      <th></th>\n",
       "      <th>ISBN</th>\n",
       "      <th>Book-Title</th>\n",
       "      <th>Book-Author</th>\n",
       "      <th>Year-Of-Publication</th>\n",
       "      <th>Publisher</th>\n",
       "    </tr>\n",
       "  </thead>\n",
       "  <tbody>\n",
       "    <tr>\n",
       "      <th>181690</th>\n",
       "      <td>1860464475</td>\n",
       "      <td>Ports of Call</td>\n",
       "      <td>Amin Maalouf</td>\n",
       "      <td>1999</td>\n",
       "      <td>Harvill Press</td>\n",
       "    </tr>\n",
       "  </tbody>\n",
       "</table>\n",
       "</div>"
      ],
      "text/plain": [
       "              ISBN     Book-Title   Book-Author Year-Of-Publication  \\\n",
       "181690  1860464475  Ports of Call  Amin Maalouf                1999   \n",
       "\n",
       "            Publisher  \n",
       "181690  Harvill Press  "
      ]
     },
     "execution_count": 10,
     "metadata": {},
     "output_type": "execute_result"
    }
   ],
   "source": [
    "books.sample()"
   ]
  },
  {
   "cell_type": "code",
   "execution_count": 11,
   "id": "b755aa9d",
   "metadata": {},
   "outputs": [],
   "source": [
    "new= books.merge(ratings, on=\"ISBN\")"
   ]
  },
  {
   "cell_type": "code",
   "execution_count": 12,
   "id": "289c5c7b",
   "metadata": {},
   "outputs": [
    {
     "data": {
      "text/plain": [
       "(1031136, 7)"
      ]
     },
     "execution_count": 12,
     "metadata": {},
     "output_type": "execute_result"
    }
   ],
   "source": [
    "new.shape"
   ]
  },
  {
   "cell_type": "code",
   "execution_count": 13,
   "id": "f547c69c",
   "metadata": {},
   "outputs": [
    {
     "data": {
      "text/plain": [
       "(271360, 5)"
      ]
     },
     "execution_count": 13,
     "metadata": {},
     "output_type": "execute_result"
    }
   ],
   "source": [
    "books.shape"
   ]
  },
  {
   "cell_type": "code",
   "execution_count": 14,
   "id": "3dc3dcc1",
   "metadata": {},
   "outputs": [
    {
     "data": {
      "text/plain": [
       "(1149780, 3)"
      ]
     },
     "execution_count": 14,
     "metadata": {},
     "output_type": "execute_result"
    }
   ],
   "source": [
    "ratings.shape"
   ]
  },
  {
   "cell_type": "code",
   "execution_count": 15,
   "id": "74ee534d",
   "metadata": {},
   "outputs": [],
   "source": [
    "new_df=new.merge(users, on=\"User-ID\")"
   ]
  },
  {
   "cell_type": "code",
   "execution_count": 16,
   "id": "a031a1ae",
   "metadata": {},
   "outputs": [
    {
     "data": {
      "text/html": [
       "<div>\n",
       "<style scoped>\n",
       "    .dataframe tbody tr th:only-of-type {\n",
       "        vertical-align: middle;\n",
       "    }\n",
       "\n",
       "    .dataframe tbody tr th {\n",
       "        vertical-align: top;\n",
       "    }\n",
       "\n",
       "    .dataframe thead th {\n",
       "        text-align: right;\n",
       "    }\n",
       "</style>\n",
       "<table border=\"1\" class=\"dataframe\">\n",
       "  <thead>\n",
       "    <tr style=\"text-align: right;\">\n",
       "      <th></th>\n",
       "      <th>ISBN</th>\n",
       "      <th>Book-Title</th>\n",
       "      <th>Book-Author</th>\n",
       "      <th>Year-Of-Publication</th>\n",
       "      <th>Publisher</th>\n",
       "      <th>User-ID</th>\n",
       "      <th>Book-Rating</th>\n",
       "      <th>Location</th>\n",
       "      <th>Age</th>\n",
       "    </tr>\n",
       "  </thead>\n",
       "  <tbody>\n",
       "    <tr>\n",
       "      <th>347399</th>\n",
       "      <td>0842349065</td>\n",
       "      <td>Pocket Smiles: 777 Moldy Olds</td>\n",
       "      <td>Robert Savage</td>\n",
       "      <td>1984</td>\n",
       "      <td>Tyndale House Pub</td>\n",
       "      <td>225087</td>\n",
       "      <td>0</td>\n",
       "      <td>toronto, ontario, canada</td>\n",
       "      <td>51.0</td>\n",
       "    </tr>\n",
       "  </tbody>\n",
       "</table>\n",
       "</div>"
      ],
      "text/plain": [
       "              ISBN                     Book-Title    Book-Author  \\\n",
       "347399  0842349065  Pocket Smiles: 777 Moldy Olds  Robert Savage   \n",
       "\n",
       "       Year-Of-Publication          Publisher  User-ID  Book-Rating  \\\n",
       "347399                1984  Tyndale House Pub   225087            0   \n",
       "\n",
       "                        Location   Age  \n",
       "347399  toronto, ontario, canada  51.0  "
      ]
     },
     "execution_count": 16,
     "metadata": {},
     "output_type": "execute_result"
    }
   ],
   "source": [
    "new_df.sample()"
   ]
  },
  {
   "cell_type": "code",
   "execution_count": 17,
   "id": "31b6170c",
   "metadata": {},
   "outputs": [
    {
     "data": {
      "text/plain": [
       "(1031136, 9)"
      ]
     },
     "execution_count": 17,
     "metadata": {},
     "output_type": "execute_result"
    }
   ],
   "source": [
    "new_df.shape"
   ]
  },
  {
   "cell_type": "code",
   "execution_count": 18,
   "id": "90101bf4",
   "metadata": {},
   "outputs": [
    {
     "name": "stdout",
     "output_type": "stream",
     "text": [
      "<class 'pandas.core.frame.DataFrame'>\n",
      "RangeIndex: 1031136 entries, 0 to 1031135\n",
      "Data columns (total 9 columns):\n",
      " #   Column               Non-Null Count    Dtype  \n",
      "---  ------               --------------    -----  \n",
      " 0   ISBN                 1031136 non-null  object \n",
      " 1   Book-Title           1031136 non-null  object \n",
      " 2   Book-Author          1031134 non-null  object \n",
      " 3   Year-Of-Publication  1031136 non-null  object \n",
      " 4   Publisher            1031134 non-null  object \n",
      " 5   User-ID              1031136 non-null  int64  \n",
      " 6   Book-Rating          1031136 non-null  int64  \n",
      " 7   Location             1031136 non-null  object \n",
      " 8   Age                  753301 non-null   float64\n",
      "dtypes: float64(1), int64(2), object(6)\n",
      "memory usage: 70.8+ MB\n"
     ]
    }
   ],
   "source": [
    "new_df.info()"
   ]
  },
  {
   "cell_type": "code",
   "execution_count": 19,
   "id": "56c07147",
   "metadata": {},
   "outputs": [
    {
     "data": {
      "text/plain": [
       "ISBN                        0\n",
       "Book-Title                  0\n",
       "Book-Author                 2\n",
       "Year-Of-Publication         0\n",
       "Publisher                   2\n",
       "User-ID                     0\n",
       "Book-Rating                 0\n",
       "Location                    0\n",
       "Age                    277835\n",
       "dtype: int64"
      ]
     },
     "execution_count": 19,
     "metadata": {},
     "output_type": "execute_result"
    }
   ],
   "source": [
    "new_df.isnull().sum()"
   ]
  },
  {
   "cell_type": "code",
   "execution_count": 20,
   "id": "ac61d217",
   "metadata": {},
   "outputs": [],
   "source": [
    "new_df=new_df.rename({\"Book-Title\":\"title\", \"Book-Author\":\"author\", \"Year-Of-Publication\":\"year\",\"User-ID\":\"ID\",\"Book-Rating\":\"Rating\"}, axis=1)"
   ]
  },
  {
   "cell_type": "code",
   "execution_count": 21,
   "id": "1b14410b",
   "metadata": {},
   "outputs": [
    {
     "data": {
      "text/html": [
       "<div>\n",
       "<style scoped>\n",
       "    .dataframe tbody tr th:only-of-type {\n",
       "        vertical-align: middle;\n",
       "    }\n",
       "\n",
       "    .dataframe tbody tr th {\n",
       "        vertical-align: top;\n",
       "    }\n",
       "\n",
       "    .dataframe thead th {\n",
       "        text-align: right;\n",
       "    }\n",
       "</style>\n",
       "<table border=\"1\" class=\"dataframe\">\n",
       "  <thead>\n",
       "    <tr style=\"text-align: right;\">\n",
       "      <th></th>\n",
       "      <th>ISBN</th>\n",
       "      <th>title</th>\n",
       "      <th>author</th>\n",
       "      <th>year</th>\n",
       "      <th>Publisher</th>\n",
       "      <th>ID</th>\n",
       "      <th>Rating</th>\n",
       "      <th>Location</th>\n",
       "      <th>Age</th>\n",
       "    </tr>\n",
       "  </thead>\n",
       "  <tbody>\n",
       "    <tr>\n",
       "      <th>514865</th>\n",
       "      <td>0373707789</td>\n",
       "      <td>Texas Lawman  (The West Texans) (Harlequin Sup...</td>\n",
       "      <td>Ginger Chambers</td>\n",
       "      <td>1998</td>\n",
       "      <td>Harlequin</td>\n",
       "      <td>172030</td>\n",
       "      <td>0</td>\n",
       "      <td>rainsville, alabama, usa</td>\n",
       "      <td>30.0</td>\n",
       "    </tr>\n",
       "  </tbody>\n",
       "</table>\n",
       "</div>"
      ],
      "text/plain": [
       "              ISBN                                              title  \\\n",
       "514865  0373707789  Texas Lawman  (The West Texans) (Harlequin Sup...   \n",
       "\n",
       "                 author  year  Publisher      ID  Rating  \\\n",
       "514865  Ginger Chambers  1998  Harlequin  172030       0   \n",
       "\n",
       "                        Location   Age  \n",
       "514865  rainsville, alabama, usa  30.0  "
      ]
     },
     "execution_count": 21,
     "metadata": {},
     "output_type": "execute_result"
    }
   ],
   "source": [
    "new_df.sample()"
   ]
  },
  {
   "cell_type": "code",
   "execution_count": 22,
   "id": "da8b9363",
   "metadata": {},
   "outputs": [
    {
     "data": {
      "text/plain": [
       "array([ 0,  5,  6,  7,  9,  8, 10,  3,  1,  4,  2], dtype=int64)"
      ]
     },
     "execution_count": 22,
     "metadata": {},
     "output_type": "execute_result"
    }
   ],
   "source": [
    "new_df.Rating.unique()"
   ]
  },
  {
   "cell_type": "code",
   "execution_count": 23,
   "id": "3a5a1f08",
   "metadata": {},
   "outputs": [],
   "source": [
    "x=new_df.ID.value_counts()>200"
   ]
  },
  {
   "cell_type": "code",
   "execution_count": 24,
   "id": "b7f60141",
   "metadata": {},
   "outputs": [],
   "source": [
    "y=x[x].index"
   ]
  },
  {
   "cell_type": "code",
   "execution_count": 25,
   "id": "3ef93dad",
   "metadata": {},
   "outputs": [
    {
     "data": {
      "text/plain": [
       "Index([ 11676, 198711, 153662,  98391,  35859, 212898, 278418,  76352, 110973,\n",
       "       235105,\n",
       "       ...\n",
       "       196047, 240567, 142093, 207782, 178199, 246311, 164323, 201783, 214272,\n",
       "       269890],\n",
       "      dtype='int64', name='ID', length=811)"
      ]
     },
     "execution_count": 25,
     "metadata": {},
     "output_type": "execute_result"
    }
   ],
   "source": [
    "y"
   ]
  },
  {
   "cell_type": "code",
   "execution_count": 26,
   "id": "de3e92c9",
   "metadata": {},
   "outputs": [],
   "source": [
    "new_df=new_df[new_df.ID.isin(y)]"
   ]
  },
  {
   "cell_type": "code",
   "execution_count": 27,
   "id": "9e79e126",
   "metadata": {},
   "outputs": [
    {
     "data": {
      "text/plain": [
       "(474007, 9)"
      ]
     },
     "execution_count": 27,
     "metadata": {},
     "output_type": "execute_result"
    }
   ],
   "source": [
    "new_df.shape"
   ]
  },
  {
   "cell_type": "code",
   "execution_count": 28,
   "id": "4bb05980",
   "metadata": {},
   "outputs": [],
   "source": [
    "number_rating=new_df.groupby(\"title\").count()[\"Rating\"].reset_index()"
   ]
  },
  {
   "cell_type": "code",
   "execution_count": 29,
   "id": "745825b1",
   "metadata": {},
   "outputs": [],
   "source": [
    "number_rating.rename(columns={\"Rating\":\"num_of_ratings\"},inplace=True)"
   ]
  },
  {
   "cell_type": "code",
   "execution_count": 30,
   "id": "c32e9a91",
   "metadata": {},
   "outputs": [
    {
     "data": {
      "text/html": [
       "<div>\n",
       "<style scoped>\n",
       "    .dataframe tbody tr th:only-of-type {\n",
       "        vertical-align: middle;\n",
       "    }\n",
       "\n",
       "    .dataframe tbody tr th {\n",
       "        vertical-align: top;\n",
       "    }\n",
       "\n",
       "    .dataframe thead th {\n",
       "        text-align: right;\n",
       "    }\n",
       "</style>\n",
       "<table border=\"1\" class=\"dataframe\">\n",
       "  <thead>\n",
       "    <tr style=\"text-align: right;\">\n",
       "      <th></th>\n",
       "      <th>title</th>\n",
       "      <th>num_of_ratings</th>\n",
       "    </tr>\n",
       "  </thead>\n",
       "  <tbody>\n",
       "    <tr>\n",
       "      <th>0</th>\n",
       "      <td>A Light in the Storm: The Civil War Diary of ...</td>\n",
       "      <td>2</td>\n",
       "    </tr>\n",
       "    <tr>\n",
       "      <th>1</th>\n",
       "      <td>Always Have Popsicles</td>\n",
       "      <td>1</td>\n",
       "    </tr>\n",
       "    <tr>\n",
       "      <th>2</th>\n",
       "      <td>Apple Magic (The Collector's series)</td>\n",
       "      <td>1</td>\n",
       "    </tr>\n",
       "    <tr>\n",
       "      <th>3</th>\n",
       "      <td>Beyond IBM: Leadership Marketing and Finance ...</td>\n",
       "      <td>1</td>\n",
       "    </tr>\n",
       "    <tr>\n",
       "      <th>4</th>\n",
       "      <td>Clifford Visita El Hospital (Clifford El Gran...</td>\n",
       "      <td>1</td>\n",
       "    </tr>\n",
       "    <tr>\n",
       "      <th>...</th>\n",
       "      <td>...</td>\n",
       "      <td>...</td>\n",
       "    </tr>\n",
       "    <tr>\n",
       "      <th>155840</th>\n",
       "      <td>Ã?Â?ber das Fernsehen.</td>\n",
       "      <td>2</td>\n",
       "    </tr>\n",
       "    <tr>\n",
       "      <th>155841</th>\n",
       "      <td>Ã?Â?ber die Pflicht zum Ungehorsam gegen den S...</td>\n",
       "      <td>3</td>\n",
       "    </tr>\n",
       "    <tr>\n",
       "      <th>155842</th>\n",
       "      <td>Ã?Â?lpiraten.</td>\n",
       "      <td>1</td>\n",
       "    </tr>\n",
       "    <tr>\n",
       "      <th>155843</th>\n",
       "      <td>Ã?Â?stlich der Berge.</td>\n",
       "      <td>1</td>\n",
       "    </tr>\n",
       "    <tr>\n",
       "      <th>155844</th>\n",
       "      <td>Ã?Â?thique en toc</td>\n",
       "      <td>1</td>\n",
       "    </tr>\n",
       "  </tbody>\n",
       "</table>\n",
       "<p>155845 rows × 2 columns</p>\n",
       "</div>"
      ],
      "text/plain": [
       "                                                    title  num_of_ratings\n",
       "0        A Light in the Storm: The Civil War Diary of ...               2\n",
       "1                                   Always Have Popsicles               1\n",
       "2                    Apple Magic (The Collector's series)               1\n",
       "3        Beyond IBM: Leadership Marketing and Finance ...               1\n",
       "4        Clifford Visita El Hospital (Clifford El Gran...               1\n",
       "...                                                   ...             ...\n",
       "155840                             Ã?Â?ber das Fernsehen.               2\n",
       "155841  Ã?Â?ber die Pflicht zum Ungehorsam gegen den S...               3\n",
       "155842                                      Ã?Â?lpiraten.               1\n",
       "155843                              Ã?Â?stlich der Berge.               1\n",
       "155844                                  Ã?Â?thique en toc               1\n",
       "\n",
       "[155845 rows x 2 columns]"
      ]
     },
     "execution_count": 30,
     "metadata": {},
     "output_type": "execute_result"
    }
   ],
   "source": [
    "number_rating"
   ]
  },
  {
   "cell_type": "code",
   "execution_count": 31,
   "id": "336af581",
   "metadata": {},
   "outputs": [
    {
     "data": {
      "text/html": [
       "<div>\n",
       "<style scoped>\n",
       "    .dataframe tbody tr th:only-of-type {\n",
       "        vertical-align: middle;\n",
       "    }\n",
       "\n",
       "    .dataframe tbody tr th {\n",
       "        vertical-align: top;\n",
       "    }\n",
       "\n",
       "    .dataframe thead th {\n",
       "        text-align: right;\n",
       "    }\n",
       "</style>\n",
       "<table border=\"1\" class=\"dataframe\">\n",
       "  <thead>\n",
       "    <tr style=\"text-align: right;\">\n",
       "      <th></th>\n",
       "      <th>ISBN</th>\n",
       "      <th>title</th>\n",
       "      <th>author</th>\n",
       "      <th>year</th>\n",
       "      <th>Publisher</th>\n",
       "      <th>ID</th>\n",
       "      <th>Rating</th>\n",
       "      <th>Location</th>\n",
       "      <th>Age</th>\n",
       "    </tr>\n",
       "  </thead>\n",
       "  <tbody>\n",
       "    <tr>\n",
       "      <th>92734</th>\n",
       "      <td>0451208072</td>\n",
       "      <td>St. Raven</td>\n",
       "      <td>Jo Beverley</td>\n",
       "      <td>2003</td>\n",
       "      <td>Signet Book</td>\n",
       "      <td>143253</td>\n",
       "      <td>0</td>\n",
       "      <td>dyersburg, tennessee, usa</td>\n",
       "      <td>27.0</td>\n",
       "    </tr>\n",
       "  </tbody>\n",
       "</table>\n",
       "</div>"
      ],
      "text/plain": [
       "             ISBN      title       author  year    Publisher      ID  Rating  \\\n",
       "92734  0451208072  St. Raven  Jo Beverley  2003  Signet Book  143253       0   \n",
       "\n",
       "                        Location   Age  \n",
       "92734  dyersburg, tennessee, usa  27.0  "
      ]
     },
     "execution_count": 31,
     "metadata": {},
     "output_type": "execute_result"
    }
   ],
   "source": [
    "new_df.sample()"
   ]
  },
  {
   "cell_type": "code",
   "execution_count": 32,
   "id": "f5c75269",
   "metadata": {},
   "outputs": [],
   "source": [
    "final_df= new_df.merge(number_rating, on=\"title\")"
   ]
  },
  {
   "cell_type": "code",
   "execution_count": 33,
   "id": "c5b4066a",
   "metadata": {},
   "outputs": [
    {
     "data": {
      "text/html": [
       "<div>\n",
       "<style scoped>\n",
       "    .dataframe tbody tr th:only-of-type {\n",
       "        vertical-align: middle;\n",
       "    }\n",
       "\n",
       "    .dataframe tbody tr th {\n",
       "        vertical-align: top;\n",
       "    }\n",
       "\n",
       "    .dataframe thead th {\n",
       "        text-align: right;\n",
       "    }\n",
       "</style>\n",
       "<table border=\"1\" class=\"dataframe\">\n",
       "  <thead>\n",
       "    <tr style=\"text-align: right;\">\n",
       "      <th></th>\n",
       "      <th>ISBN</th>\n",
       "      <th>title</th>\n",
       "      <th>author</th>\n",
       "      <th>year</th>\n",
       "      <th>Publisher</th>\n",
       "      <th>ID</th>\n",
       "      <th>Rating</th>\n",
       "      <th>Location</th>\n",
       "      <th>Age</th>\n",
       "      <th>num_of_ratings</th>\n",
       "    </tr>\n",
       "  </thead>\n",
       "  <tbody>\n",
       "    <tr>\n",
       "      <th>129925</th>\n",
       "      <td>0316588741</td>\n",
       "      <td>Demonology</td>\n",
       "      <td>Rick Moody</td>\n",
       "      <td>2001</td>\n",
       "      <td>Little, Brown</td>\n",
       "      <td>129716</td>\n",
       "      <td>0</td>\n",
       "      <td>tallahassee, florida, usa</td>\n",
       "      <td>30.0</td>\n",
       "      <td>3</td>\n",
       "    </tr>\n",
       "  </tbody>\n",
       "</table>\n",
       "</div>"
      ],
      "text/plain": [
       "              ISBN       title      author  year      Publisher      ID  \\\n",
       "129925  0316588741  Demonology  Rick Moody  2001  Little, Brown  129716   \n",
       "\n",
       "        Rating                   Location   Age  num_of_ratings  \n",
       "129925       0  tallahassee, florida, usa  30.0               3  "
      ]
     },
     "execution_count": 33,
     "metadata": {},
     "output_type": "execute_result"
    }
   ],
   "source": [
    "final_df.sample()"
   ]
  },
  {
   "cell_type": "code",
   "execution_count": null,
   "id": "8e7cc242",
   "metadata": {},
   "outputs": [],
   "source": []
  },
  {
   "cell_type": "code",
   "execution_count": 34,
   "id": "b8836004",
   "metadata": {},
   "outputs": [
    {
     "data": {
      "text/plain": [
       "(474007, 10)"
      ]
     },
     "execution_count": 34,
     "metadata": {},
     "output_type": "execute_result"
    }
   ],
   "source": [
    "final_df.shape"
   ]
  },
  {
   "cell_type": "code",
   "execution_count": 35,
   "id": "865ee580",
   "metadata": {},
   "outputs": [],
   "source": [
    "final_df=final_df[final_df.num_of_ratings>=50]"
   ]
  },
  {
   "cell_type": "code",
   "execution_count": 36,
   "id": "19f30352",
   "metadata": {},
   "outputs": [
    {
     "data": {
      "text/plain": [
       "(58586, 10)"
      ]
     },
     "execution_count": 36,
     "metadata": {},
     "output_type": "execute_result"
    }
   ],
   "source": [
    "final_df.shape"
   ]
  },
  {
   "cell_type": "code",
   "execution_count": 37,
   "id": "e025ee5b",
   "metadata": {},
   "outputs": [],
   "source": [
    "final_df.drop_duplicates([\"ID\", \"title\"], inplace=True)"
   ]
  },
  {
   "cell_type": "code",
   "execution_count": 38,
   "id": "4e11a900",
   "metadata": {},
   "outputs": [
    {
     "data": {
      "text/plain": [
       "(56629, 10)"
      ]
     },
     "execution_count": 38,
     "metadata": {},
     "output_type": "execute_result"
    }
   ],
   "source": [
    "final_df.shape"
   ]
  },
  {
   "cell_type": "code",
   "execution_count": 39,
   "id": "84cb316e",
   "metadata": {},
   "outputs": [
    {
     "data": {
      "text/plain": [
       "12571"
      ]
     },
     "execution_count": 39,
     "metadata": {},
     "output_type": "execute_result"
    }
   ],
   "source": [
    "final_df.Age.isnull().sum()"
   ]
  },
  {
   "cell_type": "code",
   "execution_count": 40,
   "id": "27ba096a",
   "metadata": {},
   "outputs": [],
   "source": [
    "final_df.title= final_df.title.apply(lambda x: x.lower())"
   ]
  },
  {
   "cell_type": "code",
   "execution_count": 41,
   "id": "8dc7c883",
   "metadata": {},
   "outputs": [],
   "source": [
    "pt=final_df.pivot_table(columns=\"ID\", index=\"title\", values=\"Rating\")"
   ]
  },
  {
   "cell_type": "code",
   "execution_count": 42,
   "id": "a0800c0b",
   "metadata": {},
   "outputs": [
    {
     "data": {
      "text/html": [
       "<div>\n",
       "<style scoped>\n",
       "    .dataframe tbody tr th:only-of-type {\n",
       "        vertical-align: middle;\n",
       "    }\n",
       "\n",
       "    .dataframe tbody tr th {\n",
       "        vertical-align: top;\n",
       "    }\n",
       "\n",
       "    .dataframe thead th {\n",
       "        text-align: right;\n",
       "    }\n",
       "</style>\n",
       "<table border=\"1\" class=\"dataframe\">\n",
       "  <thead>\n",
       "    <tr style=\"text-align: right;\">\n",
       "      <th>ID</th>\n",
       "      <th>254</th>\n",
       "      <th>2276</th>\n",
       "      <th>2766</th>\n",
       "      <th>2977</th>\n",
       "      <th>3363</th>\n",
       "      <th>4017</th>\n",
       "      <th>4385</th>\n",
       "      <th>6251</th>\n",
       "      <th>6323</th>\n",
       "      <th>6543</th>\n",
       "      <th>...</th>\n",
       "      <th>271705</th>\n",
       "      <th>273979</th>\n",
       "      <th>274004</th>\n",
       "      <th>274061</th>\n",
       "      <th>274301</th>\n",
       "      <th>274308</th>\n",
       "      <th>275970</th>\n",
       "      <th>277427</th>\n",
       "      <th>277639</th>\n",
       "      <th>278418</th>\n",
       "    </tr>\n",
       "    <tr>\n",
       "      <th>title</th>\n",
       "      <th></th>\n",
       "      <th></th>\n",
       "      <th></th>\n",
       "      <th></th>\n",
       "      <th></th>\n",
       "      <th></th>\n",
       "      <th></th>\n",
       "      <th></th>\n",
       "      <th></th>\n",
       "      <th></th>\n",
       "      <th></th>\n",
       "      <th></th>\n",
       "      <th></th>\n",
       "      <th></th>\n",
       "      <th></th>\n",
       "      <th></th>\n",
       "      <th></th>\n",
       "      <th></th>\n",
       "      <th></th>\n",
       "      <th></th>\n",
       "      <th></th>\n",
       "    </tr>\n",
       "  </thead>\n",
       "  <tbody>\n",
       "    <tr>\n",
       "      <th>1984</th>\n",
       "      <td>9.0</td>\n",
       "      <td>NaN</td>\n",
       "      <td>NaN</td>\n",
       "      <td>NaN</td>\n",
       "      <td>NaN</td>\n",
       "      <td>NaN</td>\n",
       "      <td>NaN</td>\n",
       "      <td>NaN</td>\n",
       "      <td>NaN</td>\n",
       "      <td>NaN</td>\n",
       "      <td>...</td>\n",
       "      <td>10.0</td>\n",
       "      <td>NaN</td>\n",
       "      <td>NaN</td>\n",
       "      <td>NaN</td>\n",
       "      <td>NaN</td>\n",
       "      <td>NaN</td>\n",
       "      <td>0.0</td>\n",
       "      <td>NaN</td>\n",
       "      <td>NaN</td>\n",
       "      <td>NaN</td>\n",
       "    </tr>\n",
       "    <tr>\n",
       "      <th>1st to die: a novel</th>\n",
       "      <td>NaN</td>\n",
       "      <td>NaN</td>\n",
       "      <td>NaN</td>\n",
       "      <td>NaN</td>\n",
       "      <td>NaN</td>\n",
       "      <td>NaN</td>\n",
       "      <td>NaN</td>\n",
       "      <td>NaN</td>\n",
       "      <td>NaN</td>\n",
       "      <td>9.0</td>\n",
       "      <td>...</td>\n",
       "      <td>NaN</td>\n",
       "      <td>NaN</td>\n",
       "      <td>NaN</td>\n",
       "      <td>NaN</td>\n",
       "      <td>NaN</td>\n",
       "      <td>NaN</td>\n",
       "      <td>NaN</td>\n",
       "      <td>NaN</td>\n",
       "      <td>NaN</td>\n",
       "      <td>NaN</td>\n",
       "    </tr>\n",
       "    <tr>\n",
       "      <th>2nd chance</th>\n",
       "      <td>NaN</td>\n",
       "      <td>10.0</td>\n",
       "      <td>NaN</td>\n",
       "      <td>NaN</td>\n",
       "      <td>NaN</td>\n",
       "      <td>NaN</td>\n",
       "      <td>NaN</td>\n",
       "      <td>NaN</td>\n",
       "      <td>NaN</td>\n",
       "      <td>0.0</td>\n",
       "      <td>...</td>\n",
       "      <td>NaN</td>\n",
       "      <td>NaN</td>\n",
       "      <td>NaN</td>\n",
       "      <td>NaN</td>\n",
       "      <td>NaN</td>\n",
       "      <td>0.0</td>\n",
       "      <td>NaN</td>\n",
       "      <td>NaN</td>\n",
       "      <td>0.0</td>\n",
       "      <td>NaN</td>\n",
       "    </tr>\n",
       "    <tr>\n",
       "      <th>4 blondes</th>\n",
       "      <td>NaN</td>\n",
       "      <td>NaN</td>\n",
       "      <td>NaN</td>\n",
       "      <td>NaN</td>\n",
       "      <td>NaN</td>\n",
       "      <td>NaN</td>\n",
       "      <td>NaN</td>\n",
       "      <td>0.0</td>\n",
       "      <td>NaN</td>\n",
       "      <td>NaN</td>\n",
       "      <td>...</td>\n",
       "      <td>NaN</td>\n",
       "      <td>NaN</td>\n",
       "      <td>NaN</td>\n",
       "      <td>NaN</td>\n",
       "      <td>NaN</td>\n",
       "      <td>NaN</td>\n",
       "      <td>NaN</td>\n",
       "      <td>NaN</td>\n",
       "      <td>NaN</td>\n",
       "      <td>NaN</td>\n",
       "    </tr>\n",
       "    <tr>\n",
       "      <th>\\o\\\" is for outlaw\"</th>\n",
       "      <td>NaN</td>\n",
       "      <td>NaN</td>\n",
       "      <td>NaN</td>\n",
       "      <td>NaN</td>\n",
       "      <td>NaN</td>\n",
       "      <td>NaN</td>\n",
       "      <td>NaN</td>\n",
       "      <td>NaN</td>\n",
       "      <td>NaN</td>\n",
       "      <td>NaN</td>\n",
       "      <td>...</td>\n",
       "      <td>NaN</td>\n",
       "      <td>NaN</td>\n",
       "      <td>NaN</td>\n",
       "      <td>NaN</td>\n",
       "      <td>8.0</td>\n",
       "      <td>NaN</td>\n",
       "      <td>NaN</td>\n",
       "      <td>NaN</td>\n",
       "      <td>NaN</td>\n",
       "      <td>NaN</td>\n",
       "    </tr>\n",
       "    <tr>\n",
       "      <th>...</th>\n",
       "      <td>...</td>\n",
       "      <td>...</td>\n",
       "      <td>...</td>\n",
       "      <td>...</td>\n",
       "      <td>...</td>\n",
       "      <td>...</td>\n",
       "      <td>...</td>\n",
       "      <td>...</td>\n",
       "      <td>...</td>\n",
       "      <td>...</td>\n",
       "      <td>...</td>\n",
       "      <td>...</td>\n",
       "      <td>...</td>\n",
       "      <td>...</td>\n",
       "      <td>...</td>\n",
       "      <td>...</td>\n",
       "      <td>...</td>\n",
       "      <td>...</td>\n",
       "      <td>...</td>\n",
       "      <td>...</td>\n",
       "      <td>...</td>\n",
       "    </tr>\n",
       "    <tr>\n",
       "      <th>wuthering heights</th>\n",
       "      <td>NaN</td>\n",
       "      <td>NaN</td>\n",
       "      <td>NaN</td>\n",
       "      <td>NaN</td>\n",
       "      <td>NaN</td>\n",
       "      <td>NaN</td>\n",
       "      <td>NaN</td>\n",
       "      <td>NaN</td>\n",
       "      <td>NaN</td>\n",
       "      <td>NaN</td>\n",
       "      <td>...</td>\n",
       "      <td>NaN</td>\n",
       "      <td>NaN</td>\n",
       "      <td>NaN</td>\n",
       "      <td>NaN</td>\n",
       "      <td>NaN</td>\n",
       "      <td>0.0</td>\n",
       "      <td>NaN</td>\n",
       "      <td>NaN</td>\n",
       "      <td>NaN</td>\n",
       "      <td>NaN</td>\n",
       "    </tr>\n",
       "    <tr>\n",
       "      <th>year of wonders</th>\n",
       "      <td>NaN</td>\n",
       "      <td>NaN</td>\n",
       "      <td>NaN</td>\n",
       "      <td>7.0</td>\n",
       "      <td>NaN</td>\n",
       "      <td>NaN</td>\n",
       "      <td>NaN</td>\n",
       "      <td>NaN</td>\n",
       "      <td>NaN</td>\n",
       "      <td>0.0</td>\n",
       "      <td>...</td>\n",
       "      <td>NaN</td>\n",
       "      <td>9.0</td>\n",
       "      <td>NaN</td>\n",
       "      <td>NaN</td>\n",
       "      <td>NaN</td>\n",
       "      <td>NaN</td>\n",
       "      <td>0.0</td>\n",
       "      <td>NaN</td>\n",
       "      <td>NaN</td>\n",
       "      <td>NaN</td>\n",
       "    </tr>\n",
       "    <tr>\n",
       "      <th>you belong to me</th>\n",
       "      <td>NaN</td>\n",
       "      <td>NaN</td>\n",
       "      <td>NaN</td>\n",
       "      <td>NaN</td>\n",
       "      <td>NaN</td>\n",
       "      <td>NaN</td>\n",
       "      <td>NaN</td>\n",
       "      <td>NaN</td>\n",
       "      <td>0.0</td>\n",
       "      <td>NaN</td>\n",
       "      <td>...</td>\n",
       "      <td>NaN</td>\n",
       "      <td>NaN</td>\n",
       "      <td>NaN</td>\n",
       "      <td>NaN</td>\n",
       "      <td>NaN</td>\n",
       "      <td>NaN</td>\n",
       "      <td>NaN</td>\n",
       "      <td>NaN</td>\n",
       "      <td>NaN</td>\n",
       "      <td>NaN</td>\n",
       "    </tr>\n",
       "    <tr>\n",
       "      <th>zen and the art of motorcycle maintenance: an inquiry into values</th>\n",
       "      <td>NaN</td>\n",
       "      <td>NaN</td>\n",
       "      <td>NaN</td>\n",
       "      <td>NaN</td>\n",
       "      <td>0.0</td>\n",
       "      <td>NaN</td>\n",
       "      <td>NaN</td>\n",
       "      <td>0.0</td>\n",
       "      <td>NaN</td>\n",
       "      <td>NaN</td>\n",
       "      <td>...</td>\n",
       "      <td>NaN</td>\n",
       "      <td>NaN</td>\n",
       "      <td>NaN</td>\n",
       "      <td>NaN</td>\n",
       "      <td>NaN</td>\n",
       "      <td>NaN</td>\n",
       "      <td>0.0</td>\n",
       "      <td>NaN</td>\n",
       "      <td>NaN</td>\n",
       "      <td>NaN</td>\n",
       "    </tr>\n",
       "    <tr>\n",
       "      <th>zoya</th>\n",
       "      <td>NaN</td>\n",
       "      <td>NaN</td>\n",
       "      <td>NaN</td>\n",
       "      <td>NaN</td>\n",
       "      <td>NaN</td>\n",
       "      <td>NaN</td>\n",
       "      <td>NaN</td>\n",
       "      <td>NaN</td>\n",
       "      <td>NaN</td>\n",
       "      <td>NaN</td>\n",
       "      <td>...</td>\n",
       "      <td>NaN</td>\n",
       "      <td>0.0</td>\n",
       "      <td>NaN</td>\n",
       "      <td>NaN</td>\n",
       "      <td>NaN</td>\n",
       "      <td>NaN</td>\n",
       "      <td>NaN</td>\n",
       "      <td>NaN</td>\n",
       "      <td>NaN</td>\n",
       "      <td>NaN</td>\n",
       "    </tr>\n",
       "  </tbody>\n",
       "</table>\n",
       "<p>704 rows × 810 columns</p>\n",
       "</div>"
      ],
      "text/plain": [
       "ID                                                  254     2276    2766    \\\n",
       "title                                                                        \n",
       "1984                                                   9.0     NaN     NaN   \n",
       "1st to die: a novel                                    NaN     NaN     NaN   \n",
       "2nd chance                                             NaN    10.0     NaN   \n",
       "4 blondes                                              NaN     NaN     NaN   \n",
       "\\o\\\" is for outlaw\"                                    NaN     NaN     NaN   \n",
       "...                                                    ...     ...     ...   \n",
       "wuthering heights                                      NaN     NaN     NaN   \n",
       "year of wonders                                        NaN     NaN     NaN   \n",
       "you belong to me                                       NaN     NaN     NaN   \n",
       "zen and the art of motorcycle maintenance: an i...     NaN     NaN     NaN   \n",
       "zoya                                                   NaN     NaN     NaN   \n",
       "\n",
       "ID                                                  2977    3363    4017    \\\n",
       "title                                                                        \n",
       "1984                                                   NaN     NaN     NaN   \n",
       "1st to die: a novel                                    NaN     NaN     NaN   \n",
       "2nd chance                                             NaN     NaN     NaN   \n",
       "4 blondes                                              NaN     NaN     NaN   \n",
       "\\o\\\" is for outlaw\"                                    NaN     NaN     NaN   \n",
       "...                                                    ...     ...     ...   \n",
       "wuthering heights                                      NaN     NaN     NaN   \n",
       "year of wonders                                        7.0     NaN     NaN   \n",
       "you belong to me                                       NaN     NaN     NaN   \n",
       "zen and the art of motorcycle maintenance: an i...     NaN     0.0     NaN   \n",
       "zoya                                                   NaN     NaN     NaN   \n",
       "\n",
       "ID                                                  4385    6251    6323    \\\n",
       "title                                                                        \n",
       "1984                                                   NaN     NaN     NaN   \n",
       "1st to die: a novel                                    NaN     NaN     NaN   \n",
       "2nd chance                                             NaN     NaN     NaN   \n",
       "4 blondes                                              NaN     0.0     NaN   \n",
       "\\o\\\" is for outlaw\"                                    NaN     NaN     NaN   \n",
       "...                                                    ...     ...     ...   \n",
       "wuthering heights                                      NaN     NaN     NaN   \n",
       "year of wonders                                        NaN     NaN     NaN   \n",
       "you belong to me                                       NaN     NaN     0.0   \n",
       "zen and the art of motorcycle maintenance: an i...     NaN     0.0     NaN   \n",
       "zoya                                                   NaN     NaN     NaN   \n",
       "\n",
       "ID                                                  6543    ...  271705  \\\n",
       "title                                                       ...           \n",
       "1984                                                   NaN  ...    10.0   \n",
       "1st to die: a novel                                    9.0  ...     NaN   \n",
       "2nd chance                                             0.0  ...     NaN   \n",
       "4 blondes                                              NaN  ...     NaN   \n",
       "\\o\\\" is for outlaw\"                                    NaN  ...     NaN   \n",
       "...                                                    ...  ...     ...   \n",
       "wuthering heights                                      NaN  ...     NaN   \n",
       "year of wonders                                        0.0  ...     NaN   \n",
       "you belong to me                                       NaN  ...     NaN   \n",
       "zen and the art of motorcycle maintenance: an i...     NaN  ...     NaN   \n",
       "zoya                                                   NaN  ...     NaN   \n",
       "\n",
       "ID                                                  273979  274004  274061  \\\n",
       "title                                                                        \n",
       "1984                                                   NaN     NaN     NaN   \n",
       "1st to die: a novel                                    NaN     NaN     NaN   \n",
       "2nd chance                                             NaN     NaN     NaN   \n",
       "4 blondes                                              NaN     NaN     NaN   \n",
       "\\o\\\" is for outlaw\"                                    NaN     NaN     NaN   \n",
       "...                                                    ...     ...     ...   \n",
       "wuthering heights                                      NaN     NaN     NaN   \n",
       "year of wonders                                        9.0     NaN     NaN   \n",
       "you belong to me                                       NaN     NaN     NaN   \n",
       "zen and the art of motorcycle maintenance: an i...     NaN     NaN     NaN   \n",
       "zoya                                                   0.0     NaN     NaN   \n",
       "\n",
       "ID                                                  274301  274308  275970  \\\n",
       "title                                                                        \n",
       "1984                                                   NaN     NaN     0.0   \n",
       "1st to die: a novel                                    NaN     NaN     NaN   \n",
       "2nd chance                                             NaN     0.0     NaN   \n",
       "4 blondes                                              NaN     NaN     NaN   \n",
       "\\o\\\" is for outlaw\"                                    8.0     NaN     NaN   \n",
       "...                                                    ...     ...     ...   \n",
       "wuthering heights                                      NaN     0.0     NaN   \n",
       "year of wonders                                        NaN     NaN     0.0   \n",
       "you belong to me                                       NaN     NaN     NaN   \n",
       "zen and the art of motorcycle maintenance: an i...     NaN     NaN     0.0   \n",
       "zoya                                                   NaN     NaN     NaN   \n",
       "\n",
       "ID                                                  277427  277639  278418  \n",
       "title                                                                       \n",
       "1984                                                   NaN     NaN     NaN  \n",
       "1st to die: a novel                                    NaN     NaN     NaN  \n",
       "2nd chance                                             NaN     0.0     NaN  \n",
       "4 blondes                                              NaN     NaN     NaN  \n",
       "\\o\\\" is for outlaw\"                                    NaN     NaN     NaN  \n",
       "...                                                    ...     ...     ...  \n",
       "wuthering heights                                      NaN     NaN     NaN  \n",
       "year of wonders                                        NaN     NaN     NaN  \n",
       "you belong to me                                       NaN     NaN     NaN  \n",
       "zen and the art of motorcycle maintenance: an i...     NaN     NaN     NaN  \n",
       "zoya                                                   NaN     NaN     NaN  \n",
       "\n",
       "[704 rows x 810 columns]"
      ]
     },
     "execution_count": 42,
     "metadata": {},
     "output_type": "execute_result"
    }
   ],
   "source": [
    "pt"
   ]
  },
  {
   "cell_type": "code",
   "execution_count": 43,
   "id": "c977c07d",
   "metadata": {},
   "outputs": [],
   "source": [
    "pt.fillna(0,inplace=True)"
   ]
  },
  {
   "cell_type": "code",
   "execution_count": 44,
   "id": "a09b5821",
   "metadata": {
    "scrolled": true
   },
   "outputs": [
    {
     "data": {
      "text/html": [
       "<div>\n",
       "<style scoped>\n",
       "    .dataframe tbody tr th:only-of-type {\n",
       "        vertical-align: middle;\n",
       "    }\n",
       "\n",
       "    .dataframe tbody tr th {\n",
       "        vertical-align: top;\n",
       "    }\n",
       "\n",
       "    .dataframe thead th {\n",
       "        text-align: right;\n",
       "    }\n",
       "</style>\n",
       "<table border=\"1\" class=\"dataframe\">\n",
       "  <thead>\n",
       "    <tr style=\"text-align: right;\">\n",
       "      <th>ID</th>\n",
       "      <th>254</th>\n",
       "      <th>2276</th>\n",
       "      <th>2766</th>\n",
       "      <th>2977</th>\n",
       "      <th>3363</th>\n",
       "      <th>4017</th>\n",
       "      <th>4385</th>\n",
       "      <th>6251</th>\n",
       "      <th>6323</th>\n",
       "      <th>6543</th>\n",
       "      <th>...</th>\n",
       "      <th>271705</th>\n",
       "      <th>273979</th>\n",
       "      <th>274004</th>\n",
       "      <th>274061</th>\n",
       "      <th>274301</th>\n",
       "      <th>274308</th>\n",
       "      <th>275970</th>\n",
       "      <th>277427</th>\n",
       "      <th>277639</th>\n",
       "      <th>278418</th>\n",
       "    </tr>\n",
       "    <tr>\n",
       "      <th>title</th>\n",
       "      <th></th>\n",
       "      <th></th>\n",
       "      <th></th>\n",
       "      <th></th>\n",
       "      <th></th>\n",
       "      <th></th>\n",
       "      <th></th>\n",
       "      <th></th>\n",
       "      <th></th>\n",
       "      <th></th>\n",
       "      <th></th>\n",
       "      <th></th>\n",
       "      <th></th>\n",
       "      <th></th>\n",
       "      <th></th>\n",
       "      <th></th>\n",
       "      <th></th>\n",
       "      <th></th>\n",
       "      <th></th>\n",
       "      <th></th>\n",
       "      <th></th>\n",
       "    </tr>\n",
       "  </thead>\n",
       "  <tbody>\n",
       "    <tr>\n",
       "      <th>the last time they met : a novel</th>\n",
       "      <td>0.0</td>\n",
       "      <td>0.0</td>\n",
       "      <td>0.0</td>\n",
       "      <td>0.0</td>\n",
       "      <td>0.0</td>\n",
       "      <td>0.0</td>\n",
       "      <td>0.0</td>\n",
       "      <td>0.0</td>\n",
       "      <td>0.0</td>\n",
       "      <td>0.0</td>\n",
       "      <td>...</td>\n",
       "      <td>0.0</td>\n",
       "      <td>0.0</td>\n",
       "      <td>0.0</td>\n",
       "      <td>0.0</td>\n",
       "      <td>0.0</td>\n",
       "      <td>0.0</td>\n",
       "      <td>0.0</td>\n",
       "      <td>0.0</td>\n",
       "      <td>0.0</td>\n",
       "      <td>0.0</td>\n",
       "    </tr>\n",
       "  </tbody>\n",
       "</table>\n",
       "<p>1 rows × 810 columns</p>\n",
       "</div>"
      ],
      "text/plain": [
       "ID                                254     2276    2766    2977    3363    \\\n",
       "title                                                                      \n",
       "the last time they met : a novel     0.0     0.0     0.0     0.0     0.0   \n",
       "\n",
       "ID                                4017    4385    6251    6323    6543    ...  \\\n",
       "title                                                                     ...   \n",
       "the last time they met : a novel     0.0     0.0     0.0     0.0     0.0  ...   \n",
       "\n",
       "ID                                271705  273979  274004  274061  274301  \\\n",
       "title                                                                      \n",
       "the last time they met : a novel     0.0     0.0     0.0     0.0     0.0   \n",
       "\n",
       "ID                                274308  275970  277427  277639  278418  \n",
       "title                                                                     \n",
       "the last time they met : a novel     0.0     0.0     0.0     0.0     0.0  \n",
       "\n",
       "[1 rows x 810 columns]"
      ]
     },
     "execution_count": 44,
     "metadata": {},
     "output_type": "execute_result"
    }
   ],
   "source": [
    "pt.sample()"
   ]
  },
  {
   "cell_type": "code",
   "execution_count": 45,
   "id": "0087c653",
   "metadata": {},
   "outputs": [],
   "source": [
    "from scipy.sparse import csr_matrix"
   ]
  },
  {
   "cell_type": "code",
   "execution_count": 46,
   "id": "1248ba89",
   "metadata": {},
   "outputs": [],
   "source": [
    "book_sparse= csr_matrix(pt)"
   ]
  },
  {
   "cell_type": "code",
   "execution_count": 47,
   "id": "cbc3a2a5",
   "metadata": {},
   "outputs": [
    {
     "data": {
      "text/plain": [
       "scipy.sparse._csr.csr_matrix"
      ]
     },
     "execution_count": 47,
     "metadata": {},
     "output_type": "execute_result"
    }
   ],
   "source": [
    "type(book_sparse)"
   ]
  },
  {
   "cell_type": "code",
   "execution_count": 48,
   "id": "10ca6df0",
   "metadata": {},
   "outputs": [],
   "source": [
    "from sklearn.neighbors import NearestNeighbors"
   ]
  },
  {
   "cell_type": "code",
   "execution_count": 49,
   "id": "26e587fb",
   "metadata": {},
   "outputs": [],
   "source": [
    "model= NearestNeighbors(algorithm=\"brute\")"
   ]
  },
  {
   "cell_type": "code",
   "execution_count": 50,
   "id": "4d4e9a55",
   "metadata": {},
   "outputs": [
    {
     "data": {
      "text/html": [
       "<style>#sk-container-id-1 {color: black;}#sk-container-id-1 pre{padding: 0;}#sk-container-id-1 div.sk-toggleable {background-color: white;}#sk-container-id-1 label.sk-toggleable__label {cursor: pointer;display: block;width: 100%;margin-bottom: 0;padding: 0.3em;box-sizing: border-box;text-align: center;}#sk-container-id-1 label.sk-toggleable__label-arrow:before {content: \"▸\";float: left;margin-right: 0.25em;color: #696969;}#sk-container-id-1 label.sk-toggleable__label-arrow:hover:before {color: black;}#sk-container-id-1 div.sk-estimator:hover label.sk-toggleable__label-arrow:before {color: black;}#sk-container-id-1 div.sk-toggleable__content {max-height: 0;max-width: 0;overflow: hidden;text-align: left;background-color: #f0f8ff;}#sk-container-id-1 div.sk-toggleable__content pre {margin: 0.2em;color: black;border-radius: 0.25em;background-color: #f0f8ff;}#sk-container-id-1 input.sk-toggleable__control:checked~div.sk-toggleable__content {max-height: 200px;max-width: 100%;overflow: auto;}#sk-container-id-1 input.sk-toggleable__control:checked~label.sk-toggleable__label-arrow:before {content: \"▾\";}#sk-container-id-1 div.sk-estimator input.sk-toggleable__control:checked~label.sk-toggleable__label {background-color: #d4ebff;}#sk-container-id-1 div.sk-label input.sk-toggleable__control:checked~label.sk-toggleable__label {background-color: #d4ebff;}#sk-container-id-1 input.sk-hidden--visually {border: 0;clip: rect(1px 1px 1px 1px);clip: rect(1px, 1px, 1px, 1px);height: 1px;margin: -1px;overflow: hidden;padding: 0;position: absolute;width: 1px;}#sk-container-id-1 div.sk-estimator {font-family: monospace;background-color: #f0f8ff;border: 1px dotted black;border-radius: 0.25em;box-sizing: border-box;margin-bottom: 0.5em;}#sk-container-id-1 div.sk-estimator:hover {background-color: #d4ebff;}#sk-container-id-1 div.sk-parallel-item::after {content: \"\";width: 100%;border-bottom: 1px solid gray;flex-grow: 1;}#sk-container-id-1 div.sk-label:hover label.sk-toggleable__label {background-color: #d4ebff;}#sk-container-id-1 div.sk-serial::before {content: \"\";position: absolute;border-left: 1px solid gray;box-sizing: border-box;top: 0;bottom: 0;left: 50%;z-index: 0;}#sk-container-id-1 div.sk-serial {display: flex;flex-direction: column;align-items: center;background-color: white;padding-right: 0.2em;padding-left: 0.2em;position: relative;}#sk-container-id-1 div.sk-item {position: relative;z-index: 1;}#sk-container-id-1 div.sk-parallel {display: flex;align-items: stretch;justify-content: center;background-color: white;position: relative;}#sk-container-id-1 div.sk-item::before, #sk-container-id-1 div.sk-parallel-item::before {content: \"\";position: absolute;border-left: 1px solid gray;box-sizing: border-box;top: 0;bottom: 0;left: 50%;z-index: -1;}#sk-container-id-1 div.sk-parallel-item {display: flex;flex-direction: column;z-index: 1;position: relative;background-color: white;}#sk-container-id-1 div.sk-parallel-item:first-child::after {align-self: flex-end;width: 50%;}#sk-container-id-1 div.sk-parallel-item:last-child::after {align-self: flex-start;width: 50%;}#sk-container-id-1 div.sk-parallel-item:only-child::after {width: 0;}#sk-container-id-1 div.sk-dashed-wrapped {border: 1px dashed gray;margin: 0 0.4em 0.5em 0.4em;box-sizing: border-box;padding-bottom: 0.4em;background-color: white;}#sk-container-id-1 div.sk-label label {font-family: monospace;font-weight: bold;display: inline-block;line-height: 1.2em;}#sk-container-id-1 div.sk-label-container {text-align: center;}#sk-container-id-1 div.sk-container {/* jupyter's `normalize.less` sets `[hidden] { display: none; }` but bootstrap.min.css set `[hidden] { display: none !important; }` so we also need the `!important` here to be able to override the default hidden behavior on the sphinx rendered scikit-learn.org. See: https://github.com/scikit-learn/scikit-learn/issues/21755 */display: inline-block !important;position: relative;}#sk-container-id-1 div.sk-text-repr-fallback {display: none;}</style><div id=\"sk-container-id-1\" class=\"sk-top-container\"><div class=\"sk-text-repr-fallback\"><pre>NearestNeighbors(algorithm=&#x27;brute&#x27;)</pre><b>In a Jupyter environment, please rerun this cell to show the HTML representation or trust the notebook. <br />On GitHub, the HTML representation is unable to render, please try loading this page with nbviewer.org.</b></div><div class=\"sk-container\" hidden><div class=\"sk-item\"><div class=\"sk-estimator sk-toggleable\"><input class=\"sk-toggleable__control sk-hidden--visually\" id=\"sk-estimator-id-1\" type=\"checkbox\" checked><label for=\"sk-estimator-id-1\" class=\"sk-toggleable__label sk-toggleable__label-arrow\">NearestNeighbors</label><div class=\"sk-toggleable__content\"><pre>NearestNeighbors(algorithm=&#x27;brute&#x27;)</pre></div></div></div></div></div>"
      ],
      "text/plain": [
       "NearestNeighbors(algorithm='brute')"
      ]
     },
     "execution_count": 50,
     "metadata": {},
     "output_type": "execute_result"
    }
   ],
   "source": [
    "model.fit(book_sparse)"
   ]
  },
  {
   "cell_type": "code",
   "execution_count": 51,
   "id": "b0cffa33",
   "metadata": {},
   "outputs": [],
   "source": [
    "distances, suggestions= model.kneighbors(pt.iloc[357, :].values.reshape(1,-1), n_neighbors=6)"
   ]
  },
  {
   "cell_type": "code",
   "execution_count": 52,
   "id": "7b5518c9",
   "metadata": {},
   "outputs": [
    {
     "data": {
      "text/plain": [
       "array([[ 0.        , 33.7934905 , 34.68429039, 34.87119155, 35.21363372,\n",
       "        35.63705936]])"
      ]
     },
     "execution_count": 52,
     "metadata": {},
     "output_type": "execute_result"
    }
   ],
   "source": [
    "distances"
   ]
  },
  {
   "cell_type": "code",
   "execution_count": 53,
   "id": "617668cb",
   "metadata": {},
   "outputs": [
    {
     "data": {
      "text/plain": [
       "array([[357, 175, 377, 356, 279, 307]], dtype=int64)"
      ]
     },
     "execution_count": 53,
     "metadata": {},
     "output_type": "execute_result"
    }
   ],
   "source": [
    "suggestions"
   ]
  },
  {
   "cell_type": "code",
   "execution_count": 54,
   "id": "35b0fbf1",
   "metadata": {},
   "outputs": [
    {
     "name": "stdout",
     "output_type": "stream",
     "text": [
      "Index(['notes from a small island', 'exclusive', 'pleading guilty',\n",
      "       'no safe place', 'jacob have i loved', 'long after midnight'],\n",
      "      dtype='object', name='title')\n"
     ]
    }
   ],
   "source": [
    "for i in range(len(suggestions)):\n",
    "    print(pt.index[suggestions[i]])"
   ]
  },
  {
   "cell_type": "code",
   "execution_count": 55,
   "id": "99219d35",
   "metadata": {},
   "outputs": [
    {
     "data": {
      "text/plain": [
       "'at home in mitford (the mitford years)'"
      ]
     },
     "execution_count": 55,
     "metadata": {},
     "output_type": "execute_result"
    }
   ],
   "source": [
    "pt.index[54]"
   ]
  },
  {
   "cell_type": "code",
   "execution_count": 57,
   "id": "81168e7b",
   "metadata": {},
   "outputs": [
    {
     "data": {
      "text/plain": [
       "47"
      ]
     },
     "execution_count": 57,
     "metadata": {},
     "output_type": "execute_result"
    }
   ],
   "source": [
    "np.where(pt.index=='animal farm')[0][0]"
   ]
  },
  {
   "cell_type": "code",
   "execution_count": 58,
   "id": "accc7a6e",
   "metadata": {},
   "outputs": [],
   "source": [
    "def suggest_name(text):\n",
    "    book_id=np.where(pt.index==text)[0][0]\n",
    "    distances, suggestions= model.kneighbors(pt.iloc[book_id, :].values.reshape(1,-1), n_neighbors=6)\n",
    "    \n",
    "    for i in range(len(suggestions)):\n",
    "        if i ==0:\n",
    "            print(\"The suggestion for :\", text ,\"are\")\n",
    "        if not i:\n",
    "            print(pt.index[suggestions[i]])"
   ]
  },
  {
   "cell_type": "code",
   "execution_count": null,
   "id": "592b1b61",
   "metadata": {},
   "outputs": [],
   "source": []
  },
  {
   "cell_type": "code",
   "execution_count": null,
   "id": "eeddc352",
   "metadata": {},
   "outputs": [],
   "source": []
  },
  {
   "cell_type": "code",
   "execution_count": 60,
   "id": "568f066f",
   "metadata": {},
   "outputs": [
    {
     "name": "stdout",
     "output_type": "stream",
     "text": [
      "The suggestion for : animal farm are\n",
      "Index(['animal farm', 'exclusive', 'jacob have i loved', 'pleading guilty',\n",
      "       'second nature', 'winter moon'],\n",
      "      dtype='object', name='title')\n"
     ]
    }
   ],
   "source": [
    "suggest_name(\"animal farm\")"
   ]
  },
  {
   "cell_type": "code",
   "execution_count": null,
   "id": "280f11b3",
   "metadata": {},
   "outputs": [],
   "source": []
  },
  {
   "cell_type": "markdown",
   "id": "0df70c35",
   "metadata": {},
   "source": [
    "# MODEL 2"
   ]
  },
  {
   "cell_type": "code",
   "execution_count": 61,
   "id": "7fa493b3",
   "metadata": {},
   "outputs": [],
   "source": [
    "from sklearn.metrics.pairwise import cosine_similarity"
   ]
  },
  {
   "cell_type": "code",
   "execution_count": 62,
   "id": "02da5890",
   "metadata": {},
   "outputs": [],
   "source": [
    "similarity_score= cosine_similarity(pt)\n"
   ]
  },
  {
   "cell_type": "code",
   "execution_count": 65,
   "id": "449d88e1",
   "metadata": {},
   "outputs": [
    {
     "data": {
      "text/plain": [
       "(704, 704)"
      ]
     },
     "execution_count": 65,
     "metadata": {},
     "output_type": "execute_result"
    }
   ],
   "source": [
    "similarity_score.shape"
   ]
  },
  {
   "cell_type": "code",
   "execution_count": 100,
   "id": "fa09a478",
   "metadata": {},
   "outputs": [],
   "source": [
    "def recommend(text):\n",
    "    index=np.where(pt.index==text)[0][0]\n",
    "#     distances= similarity_score(index)\n",
    "    similar_items=sorted(list(enumerate(similarity_score[index])),key=lambda x:x[1] ,reverse=True)[1:6]\n",
    "    \n",
    "    for i in similar_items:\n",
    "        print(pt.index[i[0]])"
   ]
  },
  {
   "cell_type": "code",
   "execution_count": 101,
   "id": "94d13e96",
   "metadata": {
    "scrolled": true
   },
   "outputs": [
    {
     "data": {
      "text/plain": [
       "[(544, 0.26737808296485693),\n",
       " (82, 0.2634114351153846),\n",
       " (47, 0.2472046934739493),\n",
       " (633, 0.23506027537093593),\n",
       " (343, 0.22751706211226183)]"
      ]
     },
     "execution_count": 101,
     "metadata": {},
     "output_type": "execute_result"
    }
   ],
   "source": [
    "sorted(list(enumerate(similarity_score[0])),key=lambda x:x[1] ,reverse=True)[1:6]"
   ]
  },
  {
   "cell_type": "code",
   "execution_count": 109,
   "id": "36d7abd9",
   "metadata": {},
   "outputs": [
    {
     "data": {
      "text/plain": [
       "[(1, 0.08410009916576991),\n",
       " (2, 0.0),\n",
       " (3, 0.0),\n",
       " (4, 0.03566519642188754),\n",
       " (5, 0.03968172992304222)]"
      ]
     },
     "execution_count": 109,
     "metadata": {},
     "output_type": "execute_result"
    }
   ],
   "source": [
    "list(enumerate(similarity_score[0]))[1:6] # however it was arranged"
   ]
  },
  {
   "cell_type": "code",
   "execution_count": 111,
   "id": "dc9daadf",
   "metadata": {},
   "outputs": [
    {
     "data": {
      "text/plain": [
       "[(702, 0.10186330086460314),\n",
       " (701, 0.0),\n",
       " (700, 0.057664239460121704),\n",
       " (699, 0.0),\n",
       " (698, 0.0)]"
      ]
     },
     "execution_count": 111,
     "metadata": {},
     "output_type": "execute_result"
    }
   ],
   "source": [
    "sorted(list(enumerate(similarity_score[0])),reverse=True)[1:6] #arranged backwards"
   ]
  },
  {
   "cell_type": "code",
   "execution_count": 113,
   "id": "d98c6bc3",
   "metadata": {},
   "outputs": [
    {
     "data": {
      "text/plain": [
       "[(544, 0.26737808296485693),\n",
       " (82, 0.2634114351153846),\n",
       " (47, 0.2472046934739493),\n",
       " (633, 0.23506027537093593),\n",
       " (343, 0.22751706211226183)]"
      ]
     },
     "execution_count": 113,
     "metadata": {},
     "output_type": "execute_result"
    }
   ],
   "source": [
    "sorted(list(enumerate(similarity_score[0])),key=lambda x:x[1] ,reverse=True)[1:6] #arranged according to second index"
   ]
  },
  {
   "cell_type": "code",
   "execution_count": 103,
   "id": "67d8306e",
   "metadata": {},
   "outputs": [
    {
     "name": "stdout",
     "output_type": "stream",
     "text": [
      "1984\n",
      "angus, thongs and full-frontal snogging: confessions of georgia nicolson\n",
      "midnight\n",
      "lord of the flies\n",
      "brave new world\n"
     ]
    }
   ],
   "source": [
    "recommend('animal farm')"
   ]
  },
  {
   "cell_type": "code",
   "execution_count": 116,
   "id": "57554e53",
   "metadata": {},
   "outputs": [
    {
     "data": {
      "text/plain": [
       "\"the hitchhiker's guide to the galaxy\""
      ]
     },
     "execution_count": 116,
     "metadata": {},
     "output_type": "execute_result"
    }
   ],
   "source": [
    "pt.index[545]"
   ]
  },
  {
   "cell_type": "code",
   "execution_count": 117,
   "id": "93adc8ae",
   "metadata": {},
   "outputs": [],
   "source": [
    "import pickle"
   ]
  },
  {
   "cell_type": "code",
   "execution_count": 118,
   "id": "be0287c4",
   "metadata": {},
   "outputs": [],
   "source": [
    "pickle.dump(pt, open(\"pt.pkl\", \"wb\"))\n",
    "pickle.dump(books,open(\"books.pkl\",'wb'))\n",
    "pickle.dump(similarity_score,open(\"similarity_scores\", 'wb'))"
   ]
  },
  {
   "cell_type": "code",
   "execution_count": null,
   "id": "5d97170f",
   "metadata": {},
   "outputs": [],
   "source": []
  }
 ],
 "metadata": {
  "kernelspec": {
   "display_name": "Python 3 (ipykernel)",
   "language": "python",
   "name": "python3"
  },
  "language_info": {
   "codemirror_mode": {
    "name": "ipython",
    "version": 3
   },
   "file_extension": ".py",
   "mimetype": "text/x-python",
   "name": "python",
   "nbconvert_exporter": "python",
   "pygments_lexer": "ipython3",
   "version": "3.11.5"
  }
 },
 "nbformat": 4,
 "nbformat_minor": 5
}
