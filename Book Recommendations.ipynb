{
 "cells": [
  {
   "cell_type": "code",
   "execution_count": 3,
   "id": "5366be5a",
   "metadata": {},
   "outputs": [],
   "source": [
    "import pandas as pd\n",
    "import numpy as np\n",
    "import matplotlib.pyplot as plt\n",
    "import seaborn as sns"
   ]
  },
  {
   "cell_type": "code",
   "execution_count": 4,
   "id": "6fb48b4b",
   "metadata": {},
   "outputs": [
    {
     "name": "stderr",
     "output_type": "stream",
     "text": [
      "C:\\Users\\MAYANK\\AppData\\Local\\Temp\\ipykernel_2308\\3565690060.py:1: DtypeWarning: Columns (3) have mixed types. Specify dtype option on import or set low_memory=False.\n",
      "  books= pd.read_csv(\"Books.csv\")\n"
     ]
    }
   ],
   "source": [
    "books= pd.read_csv(\"Books.csv\")\n",
    "users = pd.read_csv('users.csv')\n",
    "ratings = pd.read_csv('ratings.csv')"
   ]
  },
  {
   "cell_type": "code",
   "execution_count": 5,
   "id": "8b66f4a2",
   "metadata": {},
   "outputs": [
    {
     "data": {
      "text/plain": [
       "(271360, 8)"
      ]
     },
     "execution_count": 5,
     "metadata": {},
     "output_type": "execute_result"
    }
   ],
   "source": [
    "books.shape"
   ]
  },
  {
   "cell_type": "code",
   "execution_count": 6,
   "id": "23ec846e",
   "metadata": {},
   "outputs": [
    {
     "data": {
      "text/plain": [
       "(278858, 3)"
      ]
     },
     "execution_count": 6,
     "metadata": {},
     "output_type": "execute_result"
    }
   ],
   "source": [
    "users.shape"
   ]
  },
  {
   "cell_type": "code",
   "execution_count": 7,
   "id": "efa36e81",
   "metadata": {},
   "outputs": [
    {
     "data": {
      "text/plain": [
       "(1149780, 3)"
      ]
     },
     "execution_count": 7,
     "metadata": {},
     "output_type": "execute_result"
    }
   ],
   "source": [
    "ratings.shape"
   ]
  },
  {
   "cell_type": "code",
   "execution_count": 8,
   "id": "aaeff7d2",
   "metadata": {},
   "outputs": [
    {
     "data": {
      "text/html": [
       "<div>\n",
       "<style scoped>\n",
       "    .dataframe tbody tr th:only-of-type {\n",
       "        vertical-align: middle;\n",
       "    }\n",
       "\n",
       "    .dataframe tbody tr th {\n",
       "        vertical-align: top;\n",
       "    }\n",
       "\n",
       "    .dataframe thead th {\n",
       "        text-align: right;\n",
       "    }\n",
       "</style>\n",
       "<table border=\"1\" class=\"dataframe\">\n",
       "  <thead>\n",
       "    <tr style=\"text-align: right;\">\n",
       "      <th></th>\n",
       "      <th>ISBN</th>\n",
       "      <th>Book-Title</th>\n",
       "      <th>Book-Author</th>\n",
       "      <th>Year-Of-Publication</th>\n",
       "      <th>Publisher</th>\n",
       "      <th>Image-URL-S</th>\n",
       "      <th>Image-URL-M</th>\n",
       "      <th>Image-URL-L</th>\n",
       "    </tr>\n",
       "  </thead>\n",
       "  <tbody>\n",
       "    <tr>\n",
       "      <th>176891</th>\n",
       "      <td>0671435639</td>\n",
       "      <td>This Loving Land</td>\n",
       "      <td>Dorothy Garlock</td>\n",
       "      <td>1981</td>\n",
       "      <td>Pocket Books</td>\n",
       "      <td>http://images.amazon.com/images/P/0671435639.0...</td>\n",
       "      <td>http://images.amazon.com/images/P/0671435639.0...</td>\n",
       "      <td>http://images.amazon.com/images/P/0671435639.0...</td>\n",
       "    </tr>\n",
       "  </tbody>\n",
       "</table>\n",
       "</div>"
      ],
      "text/plain": [
       "              ISBN        Book-Title      Book-Author Year-Of-Publication  \\\n",
       "176891  0671435639  This Loving Land  Dorothy Garlock                1981   \n",
       "\n",
       "           Publisher                                        Image-URL-S  \\\n",
       "176891  Pocket Books  http://images.amazon.com/images/P/0671435639.0...   \n",
       "\n",
       "                                              Image-URL-M  \\\n",
       "176891  http://images.amazon.com/images/P/0671435639.0...   \n",
       "\n",
       "                                              Image-URL-L  \n",
       "176891  http://images.amazon.com/images/P/0671435639.0...  "
      ]
     },
     "execution_count": 8,
     "metadata": {},
     "output_type": "execute_result"
    }
   ],
   "source": [
    "books.sample()"
   ]
  },
  {
   "cell_type": "code",
   "execution_count": 9,
   "id": "2332f0f3",
   "metadata": {},
   "outputs": [
    {
     "data": {
      "text/html": [
       "<div>\n",
       "<style scoped>\n",
       "    .dataframe tbody tr th:only-of-type {\n",
       "        vertical-align: middle;\n",
       "    }\n",
       "\n",
       "    .dataframe tbody tr th {\n",
       "        vertical-align: top;\n",
       "    }\n",
       "\n",
       "    .dataframe thead th {\n",
       "        text-align: right;\n",
       "    }\n",
       "</style>\n",
       "<table border=\"1\" class=\"dataframe\">\n",
       "  <thead>\n",
       "    <tr style=\"text-align: right;\">\n",
       "      <th></th>\n",
       "      <th>User-ID</th>\n",
       "      <th>ISBN</th>\n",
       "      <th>Book-Rating</th>\n",
       "    </tr>\n",
       "  </thead>\n",
       "  <tbody>\n",
       "    <tr>\n",
       "      <th>668476</th>\n",
       "      <td>162639</td>\n",
       "      <td>0380807149</td>\n",
       "      <td>0</td>\n",
       "    </tr>\n",
       "  </tbody>\n",
       "</table>\n",
       "</div>"
      ],
      "text/plain": [
       "        User-ID        ISBN  Book-Rating\n",
       "668476   162639  0380807149            0"
      ]
     },
     "execution_count": 9,
     "metadata": {},
     "output_type": "execute_result"
    }
   ],
   "source": [
    "ratings.sample()"
   ]
  },
  {
   "cell_type": "code",
   "execution_count": 10,
   "id": "4c77657a",
   "metadata": {
    "scrolled": true
   },
   "outputs": [
    {
     "data": {
      "text/html": [
       "<div>\n",
       "<style scoped>\n",
       "    .dataframe tbody tr th:only-of-type {\n",
       "        vertical-align: middle;\n",
       "    }\n",
       "\n",
       "    .dataframe tbody tr th {\n",
       "        vertical-align: top;\n",
       "    }\n",
       "\n",
       "    .dataframe thead th {\n",
       "        text-align: right;\n",
       "    }\n",
       "</style>\n",
       "<table border=\"1\" class=\"dataframe\">\n",
       "  <thead>\n",
       "    <tr style=\"text-align: right;\">\n",
       "      <th></th>\n",
       "      <th>User-ID</th>\n",
       "      <th>Location</th>\n",
       "      <th>Age</th>\n",
       "    </tr>\n",
       "  </thead>\n",
       "  <tbody>\n",
       "    <tr>\n",
       "      <th>239488</th>\n",
       "      <td>239489</td>\n",
       "      <td>malvern, england, united kingdom</td>\n",
       "      <td>25.0</td>\n",
       "    </tr>\n",
       "  </tbody>\n",
       "</table>\n",
       "</div>"
      ],
      "text/plain": [
       "        User-ID                          Location   Age\n",
       "239488   239489  malvern, england, united kingdom  25.0"
      ]
     },
     "execution_count": 10,
     "metadata": {},
     "output_type": "execute_result"
    }
   ],
   "source": [
    "users.sample()"
   ]
  },
  {
   "cell_type": "code",
   "execution_count": 11,
   "id": "3710ce93",
   "metadata": {},
   "outputs": [],
   "source": [
    "books.drop([\"Image-URL-S\",\"Image-URL-M\",\"Image-URL-L\"], axis=1, inplace=True)"
   ]
  },
  {
   "cell_type": "code",
   "execution_count": 12,
   "id": "3cbab0b7",
   "metadata": {},
   "outputs": [
    {
     "data": {
      "text/html": [
       "<div>\n",
       "<style scoped>\n",
       "    .dataframe tbody tr th:only-of-type {\n",
       "        vertical-align: middle;\n",
       "    }\n",
       "\n",
       "    .dataframe tbody tr th {\n",
       "        vertical-align: top;\n",
       "    }\n",
       "\n",
       "    .dataframe thead th {\n",
       "        text-align: right;\n",
       "    }\n",
       "</style>\n",
       "<table border=\"1\" class=\"dataframe\">\n",
       "  <thead>\n",
       "    <tr style=\"text-align: right;\">\n",
       "      <th></th>\n",
       "      <th>ISBN</th>\n",
       "      <th>Book-Title</th>\n",
       "      <th>Book-Author</th>\n",
       "      <th>Year-Of-Publication</th>\n",
       "      <th>Publisher</th>\n",
       "    </tr>\n",
       "  </thead>\n",
       "  <tbody>\n",
       "    <tr>\n",
       "      <th>4883</th>\n",
       "      <td>3453131169</td>\n",
       "      <td>FlÃ?Â¼stern in der Nacht.</td>\n",
       "      <td>Dean Koontz</td>\n",
       "      <td>1998</td>\n",
       "      <td>Heyne</td>\n",
       "    </tr>\n",
       "  </tbody>\n",
       "</table>\n",
       "</div>"
      ],
      "text/plain": [
       "            ISBN                 Book-Title  Book-Author Year-Of-Publication  \\\n",
       "4883  3453131169  FlÃ?Â¼stern in der Nacht.  Dean Koontz                1998   \n",
       "\n",
       "     Publisher  \n",
       "4883     Heyne  "
      ]
     },
     "execution_count": 12,
     "metadata": {},
     "output_type": "execute_result"
    }
   ],
   "source": [
    "books.sample()"
   ]
  },
  {
   "cell_type": "code",
   "execution_count": 13,
   "id": "b755aa9d",
   "metadata": {},
   "outputs": [],
   "source": [
    "new= books.merge(ratings, on=\"ISBN\")"
   ]
  },
  {
   "cell_type": "code",
   "execution_count": 14,
   "id": "289c5c7b",
   "metadata": {},
   "outputs": [
    {
     "data": {
      "text/plain": [
       "(1031136, 7)"
      ]
     },
     "execution_count": 14,
     "metadata": {},
     "output_type": "execute_result"
    }
   ],
   "source": [
    "new.shape"
   ]
  },
  {
   "cell_type": "code",
   "execution_count": 15,
   "id": "f547c69c",
   "metadata": {},
   "outputs": [
    {
     "data": {
      "text/plain": [
       "(271360, 5)"
      ]
     },
     "execution_count": 15,
     "metadata": {},
     "output_type": "execute_result"
    }
   ],
   "source": [
    "books.shape"
   ]
  },
  {
   "cell_type": "code",
   "execution_count": 16,
   "id": "3dc3dcc1",
   "metadata": {},
   "outputs": [
    {
     "data": {
      "text/plain": [
       "(1149780, 3)"
      ]
     },
     "execution_count": 16,
     "metadata": {},
     "output_type": "execute_result"
    }
   ],
   "source": [
    "ratings.shape"
   ]
  },
  {
   "cell_type": "code",
   "execution_count": 17,
   "id": "74ee534d",
   "metadata": {},
   "outputs": [],
   "source": [
    "new_df=new.merge(users, on=\"User-ID\")"
   ]
  },
  {
   "cell_type": "code",
   "execution_count": 18,
   "id": "a031a1ae",
   "metadata": {},
   "outputs": [
    {
     "data": {
      "text/html": [
       "<div>\n",
       "<style scoped>\n",
       "    .dataframe tbody tr th:only-of-type {\n",
       "        vertical-align: middle;\n",
       "    }\n",
       "\n",
       "    .dataframe tbody tr th {\n",
       "        vertical-align: top;\n",
       "    }\n",
       "\n",
       "    .dataframe thead th {\n",
       "        text-align: right;\n",
       "    }\n",
       "</style>\n",
       "<table border=\"1\" class=\"dataframe\">\n",
       "  <thead>\n",
       "    <tr style=\"text-align: right;\">\n",
       "      <th></th>\n",
       "      <th>ISBN</th>\n",
       "      <th>Book-Title</th>\n",
       "      <th>Book-Author</th>\n",
       "      <th>Year-Of-Publication</th>\n",
       "      <th>Publisher</th>\n",
       "      <th>User-ID</th>\n",
       "      <th>Book-Rating</th>\n",
       "      <th>Location</th>\n",
       "      <th>Age</th>\n",
       "    </tr>\n",
       "  </thead>\n",
       "  <tbody>\n",
       "    <tr>\n",
       "      <th>500214</th>\n",
       "      <td>0312978367</td>\n",
       "      <td>The Prometheus Deception</td>\n",
       "      <td>Robert Ludlum</td>\n",
       "      <td>2001</td>\n",
       "      <td>St. Martin's Press</td>\n",
       "      <td>250925</td>\n",
       "      <td>9</td>\n",
       "      <td>milton, ontario, canada</td>\n",
       "      <td>33.0</td>\n",
       "    </tr>\n",
       "  </tbody>\n",
       "</table>\n",
       "</div>"
      ],
      "text/plain": [
       "              ISBN                Book-Title    Book-Author  \\\n",
       "500214  0312978367  The Prometheus Deception  Robert Ludlum   \n",
       "\n",
       "       Year-Of-Publication           Publisher  User-ID  Book-Rating  \\\n",
       "500214                2001  St. Martin's Press   250925            9   \n",
       "\n",
       "                       Location   Age  \n",
       "500214  milton, ontario, canada  33.0  "
      ]
     },
     "execution_count": 18,
     "metadata": {},
     "output_type": "execute_result"
    }
   ],
   "source": [
    "new_df.sample()"
   ]
  },
  {
   "cell_type": "code",
   "execution_count": 19,
   "id": "31b6170c",
   "metadata": {},
   "outputs": [
    {
     "data": {
      "text/plain": [
       "(1031136, 9)"
      ]
     },
     "execution_count": 19,
     "metadata": {},
     "output_type": "execute_result"
    }
   ],
   "source": [
    "new_df.shape"
   ]
  },
  {
   "cell_type": "code",
   "execution_count": 20,
   "id": "90101bf4",
   "metadata": {},
   "outputs": [
    {
     "name": "stdout",
     "output_type": "stream",
     "text": [
      "<class 'pandas.core.frame.DataFrame'>\n",
      "RangeIndex: 1031136 entries, 0 to 1031135\n",
      "Data columns (total 9 columns):\n",
      " #   Column               Non-Null Count    Dtype  \n",
      "---  ------               --------------    -----  \n",
      " 0   ISBN                 1031136 non-null  object \n",
      " 1   Book-Title           1031136 non-null  object \n",
      " 2   Book-Author          1031134 non-null  object \n",
      " 3   Year-Of-Publication  1031136 non-null  object \n",
      " 4   Publisher            1031134 non-null  object \n",
      " 5   User-ID              1031136 non-null  int64  \n",
      " 6   Book-Rating          1031136 non-null  int64  \n",
      " 7   Location             1031136 non-null  object \n",
      " 8   Age                  753301 non-null   float64\n",
      "dtypes: float64(1), int64(2), object(6)\n",
      "memory usage: 70.8+ MB\n"
     ]
    }
   ],
   "source": [
    "new_df.info()"
   ]
  },
  {
   "cell_type": "code",
   "execution_count": 21,
   "id": "56c07147",
   "metadata": {},
   "outputs": [
    {
     "data": {
      "text/plain": [
       "ISBN                        0\n",
       "Book-Title                  0\n",
       "Book-Author                 2\n",
       "Year-Of-Publication         0\n",
       "Publisher                   2\n",
       "User-ID                     0\n",
       "Book-Rating                 0\n",
       "Location                    0\n",
       "Age                    277835\n",
       "dtype: int64"
      ]
     },
     "execution_count": 21,
     "metadata": {},
     "output_type": "execute_result"
    }
   ],
   "source": [
    "new_df.isnull().sum()"
   ]
  },
  {
   "cell_type": "code",
   "execution_count": 22,
   "id": "ac61d217",
   "metadata": {},
   "outputs": [],
   "source": [
    "new_df=new_df.rename({\"Book-Title\":\"title\", \"Book-Author\":\"author\", \"Year-Of-Publication\":\"year\",\"User-ID\":\"ID\",\"Book-Rating\":\"Rating\"}, axis=1)"
   ]
  },
  {
   "cell_type": "code",
   "execution_count": 23,
   "id": "1b14410b",
   "metadata": {},
   "outputs": [
    {
     "data": {
      "text/html": [
       "<div>\n",
       "<style scoped>\n",
       "    .dataframe tbody tr th:only-of-type {\n",
       "        vertical-align: middle;\n",
       "    }\n",
       "\n",
       "    .dataframe tbody tr th {\n",
       "        vertical-align: top;\n",
       "    }\n",
       "\n",
       "    .dataframe thead th {\n",
       "        text-align: right;\n",
       "    }\n",
       "</style>\n",
       "<table border=\"1\" class=\"dataframe\">\n",
       "  <thead>\n",
       "    <tr style=\"text-align: right;\">\n",
       "      <th></th>\n",
       "      <th>ISBN</th>\n",
       "      <th>title</th>\n",
       "      <th>author</th>\n",
       "      <th>year</th>\n",
       "      <th>Publisher</th>\n",
       "      <th>ID</th>\n",
       "      <th>Rating</th>\n",
       "      <th>Location</th>\n",
       "      <th>Age</th>\n",
       "    </tr>\n",
       "  </thead>\n",
       "  <tbody>\n",
       "    <tr>\n",
       "      <th>822274</th>\n",
       "      <td>1551666170</td>\n",
       "      <td>Lord Of The Desert (Mira)</td>\n",
       "      <td>Diana Palmer</td>\n",
       "      <td>2000</td>\n",
       "      <td>Mira</td>\n",
       "      <td>165232</td>\n",
       "      <td>0</td>\n",
       "      <td>saint albans, west virginia, usa</td>\n",
       "      <td>23.0</td>\n",
       "    </tr>\n",
       "  </tbody>\n",
       "</table>\n",
       "</div>"
      ],
      "text/plain": [
       "              ISBN                      title        author  year Publisher  \\\n",
       "822274  1551666170  Lord Of The Desert (Mira)  Diana Palmer  2000      Mira   \n",
       "\n",
       "            ID  Rating                          Location   Age  \n",
       "822274  165232       0  saint albans, west virginia, usa  23.0  "
      ]
     },
     "execution_count": 23,
     "metadata": {},
     "output_type": "execute_result"
    }
   ],
   "source": [
    "new_df.sample()"
   ]
  },
  {
   "cell_type": "code",
   "execution_count": 24,
   "id": "da8b9363",
   "metadata": {},
   "outputs": [
    {
     "data": {
      "text/plain": [
       "array([ 0,  5,  6,  7,  9,  8, 10,  3,  1,  4,  2], dtype=int64)"
      ]
     },
     "execution_count": 24,
     "metadata": {},
     "output_type": "execute_result"
    }
   ],
   "source": [
    "new_df.Rating.unique()"
   ]
  },
  {
   "cell_type": "code",
   "execution_count": 25,
   "id": "3a5a1f08",
   "metadata": {},
   "outputs": [],
   "source": [
    "x=new_df.ID.value_counts()>200"
   ]
  },
  {
   "cell_type": "code",
   "execution_count": 26,
   "id": "b7f60141",
   "metadata": {},
   "outputs": [],
   "source": [
    "y=x[x].index"
   ]
  },
  {
   "cell_type": "code",
   "execution_count": 27,
   "id": "3ef93dad",
   "metadata": {},
   "outputs": [
    {
     "data": {
      "text/plain": [
       "Index([ 11676, 198711, 153662,  98391,  35859, 212898, 278418,  76352, 110973,\n",
       "       235105,\n",
       "       ...\n",
       "       196047, 240567, 142093, 207782, 178199, 246311, 164323, 201783, 214272,\n",
       "       269890],\n",
       "      dtype='int64', name='ID', length=811)"
      ]
     },
     "execution_count": 27,
     "metadata": {},
     "output_type": "execute_result"
    }
   ],
   "source": [
    "y"
   ]
  },
  {
   "cell_type": "code",
   "execution_count": 28,
   "id": "de3e92c9",
   "metadata": {},
   "outputs": [],
   "source": [
    "new_df=new_df[new_df.ID.isin(y)]"
   ]
  },
  {
   "cell_type": "code",
   "execution_count": 29,
   "id": "9e79e126",
   "metadata": {},
   "outputs": [
    {
     "data": {
      "text/plain": [
       "(474007, 9)"
      ]
     },
     "execution_count": 29,
     "metadata": {},
     "output_type": "execute_result"
    }
   ],
   "source": [
    "new_df.shape"
   ]
  },
  {
   "cell_type": "code",
   "execution_count": 30,
   "id": "4bb05980",
   "metadata": {},
   "outputs": [],
   "source": [
    "number_rating=new_df.groupby(\"title\").count()[\"Rating\"].reset_index()"
   ]
  },
  {
   "cell_type": "code",
   "execution_count": 31,
   "id": "745825b1",
   "metadata": {},
   "outputs": [],
   "source": [
    "number_rating.rename(columns={\"Rating\":\"num_of_ratings\"},inplace=True)"
   ]
  },
  {
   "cell_type": "code",
   "execution_count": 32,
   "id": "c32e9a91",
   "metadata": {},
   "outputs": [
    {
     "data": {
      "text/html": [
       "<div>\n",
       "<style scoped>\n",
       "    .dataframe tbody tr th:only-of-type {\n",
       "        vertical-align: middle;\n",
       "    }\n",
       "\n",
       "    .dataframe tbody tr th {\n",
       "        vertical-align: top;\n",
       "    }\n",
       "\n",
       "    .dataframe thead th {\n",
       "        text-align: right;\n",
       "    }\n",
       "</style>\n",
       "<table border=\"1\" class=\"dataframe\">\n",
       "  <thead>\n",
       "    <tr style=\"text-align: right;\">\n",
       "      <th></th>\n",
       "      <th>title</th>\n",
       "      <th>num_of_ratings</th>\n",
       "    </tr>\n",
       "  </thead>\n",
       "  <tbody>\n",
       "    <tr>\n",
       "      <th>0</th>\n",
       "      <td>A Light in the Storm: The Civil War Diary of ...</td>\n",
       "      <td>2</td>\n",
       "    </tr>\n",
       "    <tr>\n",
       "      <th>1</th>\n",
       "      <td>Always Have Popsicles</td>\n",
       "      <td>1</td>\n",
       "    </tr>\n",
       "    <tr>\n",
       "      <th>2</th>\n",
       "      <td>Apple Magic (The Collector's series)</td>\n",
       "      <td>1</td>\n",
       "    </tr>\n",
       "    <tr>\n",
       "      <th>3</th>\n",
       "      <td>Beyond IBM: Leadership Marketing and Finance ...</td>\n",
       "      <td>1</td>\n",
       "    </tr>\n",
       "    <tr>\n",
       "      <th>4</th>\n",
       "      <td>Clifford Visita El Hospital (Clifford El Gran...</td>\n",
       "      <td>1</td>\n",
       "    </tr>\n",
       "    <tr>\n",
       "      <th>...</th>\n",
       "      <td>...</td>\n",
       "      <td>...</td>\n",
       "    </tr>\n",
       "    <tr>\n",
       "      <th>155840</th>\n",
       "      <td>Ã?Â?ber das Fernsehen.</td>\n",
       "      <td>2</td>\n",
       "    </tr>\n",
       "    <tr>\n",
       "      <th>155841</th>\n",
       "      <td>Ã?Â?ber die Pflicht zum Ungehorsam gegen den S...</td>\n",
       "      <td>3</td>\n",
       "    </tr>\n",
       "    <tr>\n",
       "      <th>155842</th>\n",
       "      <td>Ã?Â?lpiraten.</td>\n",
       "      <td>1</td>\n",
       "    </tr>\n",
       "    <tr>\n",
       "      <th>155843</th>\n",
       "      <td>Ã?Â?stlich der Berge.</td>\n",
       "      <td>1</td>\n",
       "    </tr>\n",
       "    <tr>\n",
       "      <th>155844</th>\n",
       "      <td>Ã?Â?thique en toc</td>\n",
       "      <td>1</td>\n",
       "    </tr>\n",
       "  </tbody>\n",
       "</table>\n",
       "<p>155845 rows × 2 columns</p>\n",
       "</div>"
      ],
      "text/plain": [
       "                                                    title  num_of_ratings\n",
       "0        A Light in the Storm: The Civil War Diary of ...               2\n",
       "1                                   Always Have Popsicles               1\n",
       "2                    Apple Magic (The Collector's series)               1\n",
       "3        Beyond IBM: Leadership Marketing and Finance ...               1\n",
       "4        Clifford Visita El Hospital (Clifford El Gran...               1\n",
       "...                                                   ...             ...\n",
       "155840                             Ã?Â?ber das Fernsehen.               2\n",
       "155841  Ã?Â?ber die Pflicht zum Ungehorsam gegen den S...               3\n",
       "155842                                      Ã?Â?lpiraten.               1\n",
       "155843                              Ã?Â?stlich der Berge.               1\n",
       "155844                                  Ã?Â?thique en toc               1\n",
       "\n",
       "[155845 rows x 2 columns]"
      ]
     },
     "execution_count": 32,
     "metadata": {},
     "output_type": "execute_result"
    }
   ],
   "source": [
    "number_rating"
   ]
  },
  {
   "cell_type": "code",
   "execution_count": 33,
   "id": "336af581",
   "metadata": {},
   "outputs": [
    {
     "data": {
      "text/html": [
       "<div>\n",
       "<style scoped>\n",
       "    .dataframe tbody tr th:only-of-type {\n",
       "        vertical-align: middle;\n",
       "    }\n",
       "\n",
       "    .dataframe tbody tr th {\n",
       "        vertical-align: top;\n",
       "    }\n",
       "\n",
       "    .dataframe thead th {\n",
       "        text-align: right;\n",
       "    }\n",
       "</style>\n",
       "<table border=\"1\" class=\"dataframe\">\n",
       "  <thead>\n",
       "    <tr style=\"text-align: right;\">\n",
       "      <th></th>\n",
       "      <th>ISBN</th>\n",
       "      <th>title</th>\n",
       "      <th>author</th>\n",
       "      <th>year</th>\n",
       "      <th>Publisher</th>\n",
       "      <th>ID</th>\n",
       "      <th>Rating</th>\n",
       "      <th>Location</th>\n",
       "      <th>Age</th>\n",
       "    </tr>\n",
       "  </thead>\n",
       "  <tbody>\n",
       "    <tr>\n",
       "      <th>513909</th>\n",
       "      <td>0590483404</td>\n",
       "      <td>A Shocker on Shock Street (Goosebumps, No 35)</td>\n",
       "      <td>R. L. Stine</td>\n",
       "      <td>1995</td>\n",
       "      <td>Scholastic</td>\n",
       "      <td>170742</td>\n",
       "      <td>0</td>\n",
       "      <td>o`fallon, missouri, usa</td>\n",
       "      <td>41.0</td>\n",
       "    </tr>\n",
       "  </tbody>\n",
       "</table>\n",
       "</div>"
      ],
      "text/plain": [
       "              ISBN                                          title  \\\n",
       "513909  0590483404  A Shocker on Shock Street (Goosebumps, No 35)   \n",
       "\n",
       "             author  year   Publisher      ID  Rating  \\\n",
       "513909  R. L. Stine  1995  Scholastic  170742       0   \n",
       "\n",
       "                       Location   Age  \n",
       "513909  o`fallon, missouri, usa  41.0  "
      ]
     },
     "execution_count": 33,
     "metadata": {},
     "output_type": "execute_result"
    }
   ],
   "source": [
    "new_df.sample()"
   ]
  },
  {
   "cell_type": "code",
   "execution_count": 34,
   "id": "f5c75269",
   "metadata": {},
   "outputs": [],
   "source": [
    "final_df= new_df.merge(number_rating, on=\"title\")"
   ]
  },
  {
   "cell_type": "code",
   "execution_count": 35,
   "id": "c5b4066a",
   "metadata": {},
   "outputs": [
    {
     "data": {
      "text/html": [
       "<div>\n",
       "<style scoped>\n",
       "    .dataframe tbody tr th:only-of-type {\n",
       "        vertical-align: middle;\n",
       "    }\n",
       "\n",
       "    .dataframe tbody tr th {\n",
       "        vertical-align: top;\n",
       "    }\n",
       "\n",
       "    .dataframe thead th {\n",
       "        text-align: right;\n",
       "    }\n",
       "</style>\n",
       "<table border=\"1\" class=\"dataframe\">\n",
       "  <thead>\n",
       "    <tr style=\"text-align: right;\">\n",
       "      <th></th>\n",
       "      <th>ISBN</th>\n",
       "      <th>title</th>\n",
       "      <th>author</th>\n",
       "      <th>year</th>\n",
       "      <th>Publisher</th>\n",
       "      <th>ID</th>\n",
       "      <th>Rating</th>\n",
       "      <th>Location</th>\n",
       "      <th>Age</th>\n",
       "      <th>num_of_ratings</th>\n",
       "    </tr>\n",
       "  </thead>\n",
       "  <tbody>\n",
       "    <tr>\n",
       "      <th>219612</th>\n",
       "      <td>044040830X</td>\n",
       "      <td>The Little Island (Dell Picture Yearling)</td>\n",
       "      <td>Golden Macdonald</td>\n",
       "      <td>1993</td>\n",
       "      <td>Yearling Books</td>\n",
       "      <td>60244</td>\n",
       "      <td>0</td>\n",
       "      <td>alvin, texas, usa</td>\n",
       "      <td>47.0</td>\n",
       "      <td>2</td>\n",
       "    </tr>\n",
       "  </tbody>\n",
       "</table>\n",
       "</div>"
      ],
      "text/plain": [
       "              ISBN                                      title  \\\n",
       "219612  044040830X  The Little Island (Dell Picture Yearling)   \n",
       "\n",
       "                  author  year       Publisher     ID  Rating  \\\n",
       "219612  Golden Macdonald  1993  Yearling Books  60244       0   \n",
       "\n",
       "                 Location   Age  num_of_ratings  \n",
       "219612  alvin, texas, usa  47.0               2  "
      ]
     },
     "execution_count": 35,
     "metadata": {},
     "output_type": "execute_result"
    }
   ],
   "source": [
    "final_df.sample()"
   ]
  },
  {
   "cell_type": "code",
   "execution_count": null,
   "id": "8e7cc242",
   "metadata": {},
   "outputs": [],
   "source": []
  },
  {
   "cell_type": "code",
   "execution_count": 36,
   "id": "b8836004",
   "metadata": {},
   "outputs": [
    {
     "data": {
      "text/plain": [
       "(474007, 10)"
      ]
     },
     "execution_count": 36,
     "metadata": {},
     "output_type": "execute_result"
    }
   ],
   "source": [
    "final_df.shape"
   ]
  },
  {
   "cell_type": "code",
   "execution_count": 37,
   "id": "865ee580",
   "metadata": {},
   "outputs": [],
   "source": [
    "final_df=final_df[final_df.num_of_ratings>=50]"
   ]
  },
  {
   "cell_type": "code",
   "execution_count": 38,
   "id": "19f30352",
   "metadata": {},
   "outputs": [
    {
     "data": {
      "text/plain": [
       "(58586, 10)"
      ]
     },
     "execution_count": 38,
     "metadata": {},
     "output_type": "execute_result"
    }
   ],
   "source": [
    "final_df.shape"
   ]
  },
  {
   "cell_type": "code",
   "execution_count": 39,
   "id": "e025ee5b",
   "metadata": {},
   "outputs": [],
   "source": [
    "final_df.drop_duplicates([\"ID\", \"title\"], inplace=True)"
   ]
  },
  {
   "cell_type": "code",
   "execution_count": 40,
   "id": "4e11a900",
   "metadata": {},
   "outputs": [
    {
     "data": {
      "text/plain": [
       "(56629, 10)"
      ]
     },
     "execution_count": 40,
     "metadata": {},
     "output_type": "execute_result"
    }
   ],
   "source": [
    "final_df.shape"
   ]
  },
  {
   "cell_type": "code",
   "execution_count": 41,
   "id": "84cb316e",
   "metadata": {},
   "outputs": [
    {
     "data": {
      "text/plain": [
       "12571"
      ]
     },
     "execution_count": 41,
     "metadata": {},
     "output_type": "execute_result"
    }
   ],
   "source": [
    "final_df.Age.isnull().sum()"
   ]
  },
  {
   "cell_type": "code",
   "execution_count": 42,
   "id": "27ba096a",
   "metadata": {},
   "outputs": [],
   "source": [
    "final_df.title= final_df.title.apply(lambda x: x.lower())"
   ]
  },
  {
   "cell_type": "code",
   "execution_count": 43,
   "id": "8dc7c883",
   "metadata": {},
   "outputs": [],
   "source": [
    "pt=final_df.pivot_table(columns=\"ID\", index=\"title\", values=\"Rating\")"
   ]
  },
  {
   "cell_type": "code",
   "execution_count": 44,
   "id": "a0800c0b",
   "metadata": {},
   "outputs": [
    {
     "data": {
      "text/html": [
       "<div>\n",
       "<style scoped>\n",
       "    .dataframe tbody tr th:only-of-type {\n",
       "        vertical-align: middle;\n",
       "    }\n",
       "\n",
       "    .dataframe tbody tr th {\n",
       "        vertical-align: top;\n",
       "    }\n",
       "\n",
       "    .dataframe thead th {\n",
       "        text-align: right;\n",
       "    }\n",
       "</style>\n",
       "<table border=\"1\" class=\"dataframe\">\n",
       "  <thead>\n",
       "    <tr style=\"text-align: right;\">\n",
       "      <th>ID</th>\n",
       "      <th>254</th>\n",
       "      <th>2276</th>\n",
       "      <th>2766</th>\n",
       "      <th>2977</th>\n",
       "      <th>3363</th>\n",
       "      <th>4017</th>\n",
       "      <th>4385</th>\n",
       "      <th>6251</th>\n",
       "      <th>6323</th>\n",
       "      <th>6543</th>\n",
       "      <th>...</th>\n",
       "      <th>271705</th>\n",
       "      <th>273979</th>\n",
       "      <th>274004</th>\n",
       "      <th>274061</th>\n",
       "      <th>274301</th>\n",
       "      <th>274308</th>\n",
       "      <th>275970</th>\n",
       "      <th>277427</th>\n",
       "      <th>277639</th>\n",
       "      <th>278418</th>\n",
       "    </tr>\n",
       "    <tr>\n",
       "      <th>title</th>\n",
       "      <th></th>\n",
       "      <th></th>\n",
       "      <th></th>\n",
       "      <th></th>\n",
       "      <th></th>\n",
       "      <th></th>\n",
       "      <th></th>\n",
       "      <th></th>\n",
       "      <th></th>\n",
       "      <th></th>\n",
       "      <th></th>\n",
       "      <th></th>\n",
       "      <th></th>\n",
       "      <th></th>\n",
       "      <th></th>\n",
       "      <th></th>\n",
       "      <th></th>\n",
       "      <th></th>\n",
       "      <th></th>\n",
       "      <th></th>\n",
       "      <th></th>\n",
       "    </tr>\n",
       "  </thead>\n",
       "  <tbody>\n",
       "    <tr>\n",
       "      <th>1984</th>\n",
       "      <td>9.0</td>\n",
       "      <td>NaN</td>\n",
       "      <td>NaN</td>\n",
       "      <td>NaN</td>\n",
       "      <td>NaN</td>\n",
       "      <td>NaN</td>\n",
       "      <td>NaN</td>\n",
       "      <td>NaN</td>\n",
       "      <td>NaN</td>\n",
       "      <td>NaN</td>\n",
       "      <td>...</td>\n",
       "      <td>10.0</td>\n",
       "      <td>NaN</td>\n",
       "      <td>NaN</td>\n",
       "      <td>NaN</td>\n",
       "      <td>NaN</td>\n",
       "      <td>NaN</td>\n",
       "      <td>0.0</td>\n",
       "      <td>NaN</td>\n",
       "      <td>NaN</td>\n",
       "      <td>NaN</td>\n",
       "    </tr>\n",
       "    <tr>\n",
       "      <th>1st to die: a novel</th>\n",
       "      <td>NaN</td>\n",
       "      <td>NaN</td>\n",
       "      <td>NaN</td>\n",
       "      <td>NaN</td>\n",
       "      <td>NaN</td>\n",
       "      <td>NaN</td>\n",
       "      <td>NaN</td>\n",
       "      <td>NaN</td>\n",
       "      <td>NaN</td>\n",
       "      <td>9.0</td>\n",
       "      <td>...</td>\n",
       "      <td>NaN</td>\n",
       "      <td>NaN</td>\n",
       "      <td>NaN</td>\n",
       "      <td>NaN</td>\n",
       "      <td>NaN</td>\n",
       "      <td>NaN</td>\n",
       "      <td>NaN</td>\n",
       "      <td>NaN</td>\n",
       "      <td>NaN</td>\n",
       "      <td>NaN</td>\n",
       "    </tr>\n",
       "    <tr>\n",
       "      <th>2nd chance</th>\n",
       "      <td>NaN</td>\n",
       "      <td>10.0</td>\n",
       "      <td>NaN</td>\n",
       "      <td>NaN</td>\n",
       "      <td>NaN</td>\n",
       "      <td>NaN</td>\n",
       "      <td>NaN</td>\n",
       "      <td>NaN</td>\n",
       "      <td>NaN</td>\n",
       "      <td>0.0</td>\n",
       "      <td>...</td>\n",
       "      <td>NaN</td>\n",
       "      <td>NaN</td>\n",
       "      <td>NaN</td>\n",
       "      <td>NaN</td>\n",
       "      <td>NaN</td>\n",
       "      <td>0.0</td>\n",
       "      <td>NaN</td>\n",
       "      <td>NaN</td>\n",
       "      <td>0.0</td>\n",
       "      <td>NaN</td>\n",
       "    </tr>\n",
       "    <tr>\n",
       "      <th>4 blondes</th>\n",
       "      <td>NaN</td>\n",
       "      <td>NaN</td>\n",
       "      <td>NaN</td>\n",
       "      <td>NaN</td>\n",
       "      <td>NaN</td>\n",
       "      <td>NaN</td>\n",
       "      <td>NaN</td>\n",
       "      <td>0.0</td>\n",
       "      <td>NaN</td>\n",
       "      <td>NaN</td>\n",
       "      <td>...</td>\n",
       "      <td>NaN</td>\n",
       "      <td>NaN</td>\n",
       "      <td>NaN</td>\n",
       "      <td>NaN</td>\n",
       "      <td>NaN</td>\n",
       "      <td>NaN</td>\n",
       "      <td>NaN</td>\n",
       "      <td>NaN</td>\n",
       "      <td>NaN</td>\n",
       "      <td>NaN</td>\n",
       "    </tr>\n",
       "    <tr>\n",
       "      <th>\\o\\\" is for outlaw\"</th>\n",
       "      <td>NaN</td>\n",
       "      <td>NaN</td>\n",
       "      <td>NaN</td>\n",
       "      <td>NaN</td>\n",
       "      <td>NaN</td>\n",
       "      <td>NaN</td>\n",
       "      <td>NaN</td>\n",
       "      <td>NaN</td>\n",
       "      <td>NaN</td>\n",
       "      <td>NaN</td>\n",
       "      <td>...</td>\n",
       "      <td>NaN</td>\n",
       "      <td>NaN</td>\n",
       "      <td>NaN</td>\n",
       "      <td>NaN</td>\n",
       "      <td>8.0</td>\n",
       "      <td>NaN</td>\n",
       "      <td>NaN</td>\n",
       "      <td>NaN</td>\n",
       "      <td>NaN</td>\n",
       "      <td>NaN</td>\n",
       "    </tr>\n",
       "    <tr>\n",
       "      <th>...</th>\n",
       "      <td>...</td>\n",
       "      <td>...</td>\n",
       "      <td>...</td>\n",
       "      <td>...</td>\n",
       "      <td>...</td>\n",
       "      <td>...</td>\n",
       "      <td>...</td>\n",
       "      <td>...</td>\n",
       "      <td>...</td>\n",
       "      <td>...</td>\n",
       "      <td>...</td>\n",
       "      <td>...</td>\n",
       "      <td>...</td>\n",
       "      <td>...</td>\n",
       "      <td>...</td>\n",
       "      <td>...</td>\n",
       "      <td>...</td>\n",
       "      <td>...</td>\n",
       "      <td>...</td>\n",
       "      <td>...</td>\n",
       "      <td>...</td>\n",
       "    </tr>\n",
       "    <tr>\n",
       "      <th>wuthering heights</th>\n",
       "      <td>NaN</td>\n",
       "      <td>NaN</td>\n",
       "      <td>NaN</td>\n",
       "      <td>NaN</td>\n",
       "      <td>NaN</td>\n",
       "      <td>NaN</td>\n",
       "      <td>NaN</td>\n",
       "      <td>NaN</td>\n",
       "      <td>NaN</td>\n",
       "      <td>NaN</td>\n",
       "      <td>...</td>\n",
       "      <td>NaN</td>\n",
       "      <td>NaN</td>\n",
       "      <td>NaN</td>\n",
       "      <td>NaN</td>\n",
       "      <td>NaN</td>\n",
       "      <td>0.0</td>\n",
       "      <td>NaN</td>\n",
       "      <td>NaN</td>\n",
       "      <td>NaN</td>\n",
       "      <td>NaN</td>\n",
       "    </tr>\n",
       "    <tr>\n",
       "      <th>year of wonders</th>\n",
       "      <td>NaN</td>\n",
       "      <td>NaN</td>\n",
       "      <td>NaN</td>\n",
       "      <td>7.0</td>\n",
       "      <td>NaN</td>\n",
       "      <td>NaN</td>\n",
       "      <td>NaN</td>\n",
       "      <td>NaN</td>\n",
       "      <td>NaN</td>\n",
       "      <td>0.0</td>\n",
       "      <td>...</td>\n",
       "      <td>NaN</td>\n",
       "      <td>9.0</td>\n",
       "      <td>NaN</td>\n",
       "      <td>NaN</td>\n",
       "      <td>NaN</td>\n",
       "      <td>NaN</td>\n",
       "      <td>0.0</td>\n",
       "      <td>NaN</td>\n",
       "      <td>NaN</td>\n",
       "      <td>NaN</td>\n",
       "    </tr>\n",
       "    <tr>\n",
       "      <th>you belong to me</th>\n",
       "      <td>NaN</td>\n",
       "      <td>NaN</td>\n",
       "      <td>NaN</td>\n",
       "      <td>NaN</td>\n",
       "      <td>NaN</td>\n",
       "      <td>NaN</td>\n",
       "      <td>NaN</td>\n",
       "      <td>NaN</td>\n",
       "      <td>0.0</td>\n",
       "      <td>NaN</td>\n",
       "      <td>...</td>\n",
       "      <td>NaN</td>\n",
       "      <td>NaN</td>\n",
       "      <td>NaN</td>\n",
       "      <td>NaN</td>\n",
       "      <td>NaN</td>\n",
       "      <td>NaN</td>\n",
       "      <td>NaN</td>\n",
       "      <td>NaN</td>\n",
       "      <td>NaN</td>\n",
       "      <td>NaN</td>\n",
       "    </tr>\n",
       "    <tr>\n",
       "      <th>zen and the art of motorcycle maintenance: an inquiry into values</th>\n",
       "      <td>NaN</td>\n",
       "      <td>NaN</td>\n",
       "      <td>NaN</td>\n",
       "      <td>NaN</td>\n",
       "      <td>0.0</td>\n",
       "      <td>NaN</td>\n",
       "      <td>NaN</td>\n",
       "      <td>0.0</td>\n",
       "      <td>NaN</td>\n",
       "      <td>NaN</td>\n",
       "      <td>...</td>\n",
       "      <td>NaN</td>\n",
       "      <td>NaN</td>\n",
       "      <td>NaN</td>\n",
       "      <td>NaN</td>\n",
       "      <td>NaN</td>\n",
       "      <td>NaN</td>\n",
       "      <td>0.0</td>\n",
       "      <td>NaN</td>\n",
       "      <td>NaN</td>\n",
       "      <td>NaN</td>\n",
       "    </tr>\n",
       "    <tr>\n",
       "      <th>zoya</th>\n",
       "      <td>NaN</td>\n",
       "      <td>NaN</td>\n",
       "      <td>NaN</td>\n",
       "      <td>NaN</td>\n",
       "      <td>NaN</td>\n",
       "      <td>NaN</td>\n",
       "      <td>NaN</td>\n",
       "      <td>NaN</td>\n",
       "      <td>NaN</td>\n",
       "      <td>NaN</td>\n",
       "      <td>...</td>\n",
       "      <td>NaN</td>\n",
       "      <td>0.0</td>\n",
       "      <td>NaN</td>\n",
       "      <td>NaN</td>\n",
       "      <td>NaN</td>\n",
       "      <td>NaN</td>\n",
       "      <td>NaN</td>\n",
       "      <td>NaN</td>\n",
       "      <td>NaN</td>\n",
       "      <td>NaN</td>\n",
       "    </tr>\n",
       "  </tbody>\n",
       "</table>\n",
       "<p>704 rows × 810 columns</p>\n",
       "</div>"
      ],
      "text/plain": [
       "ID                                                  254     2276    2766    \\\n",
       "title                                                                        \n",
       "1984                                                   9.0     NaN     NaN   \n",
       "1st to die: a novel                                    NaN     NaN     NaN   \n",
       "2nd chance                                             NaN    10.0     NaN   \n",
       "4 blondes                                              NaN     NaN     NaN   \n",
       "\\o\\\" is for outlaw\"                                    NaN     NaN     NaN   \n",
       "...                                                    ...     ...     ...   \n",
       "wuthering heights                                      NaN     NaN     NaN   \n",
       "year of wonders                                        NaN     NaN     NaN   \n",
       "you belong to me                                       NaN     NaN     NaN   \n",
       "zen and the art of motorcycle maintenance: an i...     NaN     NaN     NaN   \n",
       "zoya                                                   NaN     NaN     NaN   \n",
       "\n",
       "ID                                                  2977    3363    4017    \\\n",
       "title                                                                        \n",
       "1984                                                   NaN     NaN     NaN   \n",
       "1st to die: a novel                                    NaN     NaN     NaN   \n",
       "2nd chance                                             NaN     NaN     NaN   \n",
       "4 blondes                                              NaN     NaN     NaN   \n",
       "\\o\\\" is for outlaw\"                                    NaN     NaN     NaN   \n",
       "...                                                    ...     ...     ...   \n",
       "wuthering heights                                      NaN     NaN     NaN   \n",
       "year of wonders                                        7.0     NaN     NaN   \n",
       "you belong to me                                       NaN     NaN     NaN   \n",
       "zen and the art of motorcycle maintenance: an i...     NaN     0.0     NaN   \n",
       "zoya                                                   NaN     NaN     NaN   \n",
       "\n",
       "ID                                                  4385    6251    6323    \\\n",
       "title                                                                        \n",
       "1984                                                   NaN     NaN     NaN   \n",
       "1st to die: a novel                                    NaN     NaN     NaN   \n",
       "2nd chance                                             NaN     NaN     NaN   \n",
       "4 blondes                                              NaN     0.0     NaN   \n",
       "\\o\\\" is for outlaw\"                                    NaN     NaN     NaN   \n",
       "...                                                    ...     ...     ...   \n",
       "wuthering heights                                      NaN     NaN     NaN   \n",
       "year of wonders                                        NaN     NaN     NaN   \n",
       "you belong to me                                       NaN     NaN     0.0   \n",
       "zen and the art of motorcycle maintenance: an i...     NaN     0.0     NaN   \n",
       "zoya                                                   NaN     NaN     NaN   \n",
       "\n",
       "ID                                                  6543    ...  271705  \\\n",
       "title                                                       ...           \n",
       "1984                                                   NaN  ...    10.0   \n",
       "1st to die: a novel                                    9.0  ...     NaN   \n",
       "2nd chance                                             0.0  ...     NaN   \n",
       "4 blondes                                              NaN  ...     NaN   \n",
       "\\o\\\" is for outlaw\"                                    NaN  ...     NaN   \n",
       "...                                                    ...  ...     ...   \n",
       "wuthering heights                                      NaN  ...     NaN   \n",
       "year of wonders                                        0.0  ...     NaN   \n",
       "you belong to me                                       NaN  ...     NaN   \n",
       "zen and the art of motorcycle maintenance: an i...     NaN  ...     NaN   \n",
       "zoya                                                   NaN  ...     NaN   \n",
       "\n",
       "ID                                                  273979  274004  274061  \\\n",
       "title                                                                        \n",
       "1984                                                   NaN     NaN     NaN   \n",
       "1st to die: a novel                                    NaN     NaN     NaN   \n",
       "2nd chance                                             NaN     NaN     NaN   \n",
       "4 blondes                                              NaN     NaN     NaN   \n",
       "\\o\\\" is for outlaw\"                                    NaN     NaN     NaN   \n",
       "...                                                    ...     ...     ...   \n",
       "wuthering heights                                      NaN     NaN     NaN   \n",
       "year of wonders                                        9.0     NaN     NaN   \n",
       "you belong to me                                       NaN     NaN     NaN   \n",
       "zen and the art of motorcycle maintenance: an i...     NaN     NaN     NaN   \n",
       "zoya                                                   0.0     NaN     NaN   \n",
       "\n",
       "ID                                                  274301  274308  275970  \\\n",
       "title                                                                        \n",
       "1984                                                   NaN     NaN     0.0   \n",
       "1st to die: a novel                                    NaN     NaN     NaN   \n",
       "2nd chance                                             NaN     0.0     NaN   \n",
       "4 blondes                                              NaN     NaN     NaN   \n",
       "\\o\\\" is for outlaw\"                                    8.0     NaN     NaN   \n",
       "...                                                    ...     ...     ...   \n",
       "wuthering heights                                      NaN     0.0     NaN   \n",
       "year of wonders                                        NaN     NaN     0.0   \n",
       "you belong to me                                       NaN     NaN     NaN   \n",
       "zen and the art of motorcycle maintenance: an i...     NaN     NaN     0.0   \n",
       "zoya                                                   NaN     NaN     NaN   \n",
       "\n",
       "ID                                                  277427  277639  278418  \n",
       "title                                                                       \n",
       "1984                                                   NaN     NaN     NaN  \n",
       "1st to die: a novel                                    NaN     NaN     NaN  \n",
       "2nd chance                                             NaN     0.0     NaN  \n",
       "4 blondes                                              NaN     NaN     NaN  \n",
       "\\o\\\" is for outlaw\"                                    NaN     NaN     NaN  \n",
       "...                                                    ...     ...     ...  \n",
       "wuthering heights                                      NaN     NaN     NaN  \n",
       "year of wonders                                        NaN     NaN     NaN  \n",
       "you belong to me                                       NaN     NaN     NaN  \n",
       "zen and the art of motorcycle maintenance: an i...     NaN     NaN     NaN  \n",
       "zoya                                                   NaN     NaN     NaN  \n",
       "\n",
       "[704 rows x 810 columns]"
      ]
     },
     "execution_count": 44,
     "metadata": {},
     "output_type": "execute_result"
    }
   ],
   "source": [
    "pt"
   ]
  },
  {
   "cell_type": "code",
   "execution_count": 45,
   "id": "c977c07d",
   "metadata": {},
   "outputs": [],
   "source": [
    "pt.fillna(0,inplace=True)"
   ]
  },
  {
   "cell_type": "code",
   "execution_count": 46,
   "id": "a09b5821",
   "metadata": {
    "scrolled": true
   },
   "outputs": [
    {
     "data": {
      "text/html": [
       "<div>\n",
       "<style scoped>\n",
       "    .dataframe tbody tr th:only-of-type {\n",
       "        vertical-align: middle;\n",
       "    }\n",
       "\n",
       "    .dataframe tbody tr th {\n",
       "        vertical-align: top;\n",
       "    }\n",
       "\n",
       "    .dataframe thead th {\n",
       "        text-align: right;\n",
       "    }\n",
       "</style>\n",
       "<table border=\"1\" class=\"dataframe\">\n",
       "  <thead>\n",
       "    <tr style=\"text-align: right;\">\n",
       "      <th>ID</th>\n",
       "      <th>254</th>\n",
       "      <th>2276</th>\n",
       "      <th>2766</th>\n",
       "      <th>2977</th>\n",
       "      <th>3363</th>\n",
       "      <th>4017</th>\n",
       "      <th>4385</th>\n",
       "      <th>6251</th>\n",
       "      <th>6323</th>\n",
       "      <th>6543</th>\n",
       "      <th>...</th>\n",
       "      <th>271705</th>\n",
       "      <th>273979</th>\n",
       "      <th>274004</th>\n",
       "      <th>274061</th>\n",
       "      <th>274301</th>\n",
       "      <th>274308</th>\n",
       "      <th>275970</th>\n",
       "      <th>277427</th>\n",
       "      <th>277639</th>\n",
       "      <th>278418</th>\n",
       "    </tr>\n",
       "    <tr>\n",
       "      <th>title</th>\n",
       "      <th></th>\n",
       "      <th></th>\n",
       "      <th></th>\n",
       "      <th></th>\n",
       "      <th></th>\n",
       "      <th></th>\n",
       "      <th></th>\n",
       "      <th></th>\n",
       "      <th></th>\n",
       "      <th></th>\n",
       "      <th></th>\n",
       "      <th></th>\n",
       "      <th></th>\n",
       "      <th></th>\n",
       "      <th></th>\n",
       "      <th></th>\n",
       "      <th></th>\n",
       "      <th></th>\n",
       "      <th></th>\n",
       "      <th></th>\n",
       "      <th></th>\n",
       "    </tr>\n",
       "  </thead>\n",
       "  <tbody>\n",
       "    <tr>\n",
       "      <th>zen and the art of motorcycle maintenance: an inquiry into values</th>\n",
       "      <td>0.0</td>\n",
       "      <td>0.0</td>\n",
       "      <td>0.0</td>\n",
       "      <td>0.0</td>\n",
       "      <td>0.0</td>\n",
       "      <td>0.0</td>\n",
       "      <td>0.0</td>\n",
       "      <td>0.0</td>\n",
       "      <td>0.0</td>\n",
       "      <td>0.0</td>\n",
       "      <td>...</td>\n",
       "      <td>0.0</td>\n",
       "      <td>0.0</td>\n",
       "      <td>0.0</td>\n",
       "      <td>0.0</td>\n",
       "      <td>0.0</td>\n",
       "      <td>0.0</td>\n",
       "      <td>0.0</td>\n",
       "      <td>0.0</td>\n",
       "      <td>0.0</td>\n",
       "      <td>0.0</td>\n",
       "    </tr>\n",
       "  </tbody>\n",
       "</table>\n",
       "<p>1 rows × 810 columns</p>\n",
       "</div>"
      ],
      "text/plain": [
       "ID                                                  254     2276    2766    \\\n",
       "title                                                                        \n",
       "zen and the art of motorcycle maintenance: an i...     0.0     0.0     0.0   \n",
       "\n",
       "ID                                                  2977    3363    4017    \\\n",
       "title                                                                        \n",
       "zen and the art of motorcycle maintenance: an i...     0.0     0.0     0.0   \n",
       "\n",
       "ID                                                  4385    6251    6323    \\\n",
       "title                                                                        \n",
       "zen and the art of motorcycle maintenance: an i...     0.0     0.0     0.0   \n",
       "\n",
       "ID                                                  6543    ...  271705  \\\n",
       "title                                                       ...           \n",
       "zen and the art of motorcycle maintenance: an i...     0.0  ...     0.0   \n",
       "\n",
       "ID                                                  273979  274004  274061  \\\n",
       "title                                                                        \n",
       "zen and the art of motorcycle maintenance: an i...     0.0     0.0     0.0   \n",
       "\n",
       "ID                                                  274301  274308  275970  \\\n",
       "title                                                                        \n",
       "zen and the art of motorcycle maintenance: an i...     0.0     0.0     0.0   \n",
       "\n",
       "ID                                                  277427  277639  278418  \n",
       "title                                                                       \n",
       "zen and the art of motorcycle maintenance: an i...     0.0     0.0     0.0  \n",
       "\n",
       "[1 rows x 810 columns]"
      ]
     },
     "execution_count": 46,
     "metadata": {},
     "output_type": "execute_result"
    }
   ],
   "source": [
    "pt.sample()"
   ]
  },
  {
   "cell_type": "markdown",
   "id": "0df70c35",
   "metadata": {},
   "source": [
    "# MODEL 2"
   ]
  },
  {
   "cell_type": "code",
   "execution_count": 47,
   "id": "7fa493b3",
   "metadata": {},
   "outputs": [],
   "source": [
    "from sklearn.metrics.pairwise import cosine_similarity"
   ]
  },
  {
   "cell_type": "code",
   "execution_count": 48,
   "id": "02da5890",
   "metadata": {},
   "outputs": [],
   "source": [
    "similarity_score= cosine_similarity(pt)\n"
   ]
  },
  {
   "cell_type": "code",
   "execution_count": 49,
   "id": "449d88e1",
   "metadata": {},
   "outputs": [
    {
     "data": {
      "text/plain": [
       "(704, 704)"
      ]
     },
     "execution_count": 49,
     "metadata": {},
     "output_type": "execute_result"
    }
   ],
   "source": [
    "similarity_score.shape"
   ]
  },
  {
   "cell_type": "code",
   "execution_count": 50,
   "id": "fa09a478",
   "metadata": {},
   "outputs": [],
   "source": [
    "def recommend(text):\n",
    "    index=np.where(pt.index==text)[0][0]\n",
    "#     distances= similarity_score(index)\n",
    "    similar_items=sorted(list(enumerate(similarity_score[index])),key=lambda x:x[1] ,reverse=True)[1:6]\n",
    "    \n",
    "    for i in similar_items:\n",
    "        print(pt.index[i[0]])"
   ]
  },
  {
   "cell_type": "code",
   "execution_count": 51,
   "id": "94d13e96",
   "metadata": {
    "scrolled": true
   },
   "outputs": [
    {
     "data": {
      "text/plain": [
       "[(544, 0.26737808296485693),\n",
       " (82, 0.2634114351153846),\n",
       " (47, 0.2472046934739493),\n",
       " (633, 0.23506027537093593),\n",
       " (343, 0.22751706211226183)]"
      ]
     },
     "execution_count": 51,
     "metadata": {},
     "output_type": "execute_result"
    }
   ],
   "source": [
    "sorted(list(enumerate(similarity_score[0])),key=lambda x:x[1] ,reverse=True)[1:6]"
   ]
  },
  {
   "cell_type": "code",
   "execution_count": 52,
   "id": "36d7abd9",
   "metadata": {},
   "outputs": [
    {
     "data": {
      "text/plain": [
       "[(1, 0.08410009916576992),\n",
       " (2, 0.0),\n",
       " (3, 0.0),\n",
       " (4, 0.03566519642188754),\n",
       " (5, 0.03968172992304222)]"
      ]
     },
     "execution_count": 52,
     "metadata": {},
     "output_type": "execute_result"
    }
   ],
   "source": [
    "list(enumerate(similarity_score[0]))[1:6] # however it was arranged"
   ]
  },
  {
   "cell_type": "code",
   "execution_count": 53,
   "id": "dc9daadf",
   "metadata": {},
   "outputs": [
    {
     "data": {
      "text/plain": [
       "[(702, 0.10186330086460314),\n",
       " (701, 0.0),\n",
       " (700, 0.057664239460121704),\n",
       " (699, 0.0),\n",
       " (698, 0.0)]"
      ]
     },
     "execution_count": 53,
     "metadata": {},
     "output_type": "execute_result"
    }
   ],
   "source": [
    "sorted(list(enumerate(similarity_score[0])),reverse=True)[1:6] #arranged backwards"
   ]
  },
  {
   "cell_type": "code",
   "execution_count": 54,
   "id": "d98c6bc3",
   "metadata": {},
   "outputs": [
    {
     "data": {
      "text/plain": [
       "[(544, 0.26737808296485693),\n",
       " (82, 0.2634114351153846),\n",
       " (47, 0.2472046934739493),\n",
       " (633, 0.23506027537093593),\n",
       " (343, 0.22751706211226183)]"
      ]
     },
     "execution_count": 54,
     "metadata": {},
     "output_type": "execute_result"
    }
   ],
   "source": [
    "sorted(list(enumerate(similarity_score[0])),key=lambda x:x[1] ,reverse=True)[1:6] #arranged according to second index"
   ]
  },
  {
   "cell_type": "code",
   "execution_count": 55,
   "id": "67d8306e",
   "metadata": {},
   "outputs": [
    {
     "name": "stdout",
     "output_type": "stream",
     "text": [
      "1984\n",
      "angus, thongs and full-frontal snogging: confessions of georgia nicolson\n",
      "midnight\n",
      "lord of the flies\n",
      "brave new world\n"
     ]
    }
   ],
   "source": [
    "recommend('animal farm')"
   ]
  },
  {
   "cell_type": "code",
   "execution_count": 56,
   "id": "57554e53",
   "metadata": {},
   "outputs": [
    {
     "data": {
      "text/plain": [
       "\"the hitchhiker's guide to the galaxy\""
      ]
     },
     "execution_count": 56,
     "metadata": {},
     "output_type": "execute_result"
    }
   ],
   "source": [
    "pt.index[545]"
   ]
  },
  {
   "cell_type": "code",
   "execution_count": 57,
   "id": "93adc8ae",
   "metadata": {},
   "outputs": [],
   "source": [
    "import pickle"
   ]
  },
  {
   "cell_type": "code",
   "execution_count": 58,
   "id": "be0287c4",
   "metadata": {},
   "outputs": [],
   "source": [
    "pickle.dump(pt, open(\"pt.pkl\", \"wb\"))\n",
    "pickle.dump(books,open(\"books.pkl\",'wb'))\n",
    "pickle.dump(similarity_score,open(\"similarity_scores\", 'wb'))"
   ]
  },
  {
   "cell_type": "code",
   "execution_count": null,
   "id": "5d97170f",
   "metadata": {},
   "outputs": [],
   "source": []
  },
  {
   "cell_type": "code",
   "execution_count": null,
   "id": "ce19061f",
   "metadata": {},
   "outputs": [],
   "source": []
  }
 ],
 "metadata": {
  "kernelspec": {
   "display_name": "Python 3 (ipykernel)",
   "language": "python",
   "name": "python3"
  },
  "language_info": {
   "codemirror_mode": {
    "name": "ipython",
    "version": 3
   },
   "file_extension": ".py",
   "mimetype": "text/x-python",
   "name": "python",
   "nbconvert_exporter": "python",
   "pygments_lexer": "ipython3",
   "version": "3.11.5"
  }
 },
 "nbformat": 4,
 "nbformat_minor": 5
}
